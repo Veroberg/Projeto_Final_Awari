{
  "nbformat": 4,
  "nbformat_minor": 0,
  "metadata": {
    "colab": {
      "name": "Cópia de PROJETO AWARI - Verônica.ipynb",
      "provenance": [],
      "collapsed_sections": [
        "9fvUQIZisQPH",
        "Ls_DvFBss3TW",
        "7gaT_kZgtzAQ",
        "PrM_n9FrAZmK",
        "jIRN99O5Aj6W",
        "OeZHdILsCk5V",
        "I1cTCk1VA7MW",
        "wVquLAZFD3k0",
        "95P6Jh77sQPN",
        "6ccxBI_gFLm3",
        "HIWNu1XrFbyC",
        "kj2ktZEKFf__"
      ],
      "machine_shape": "hm",
      "include_colab_link": true
    },
    "kernelspec": {
      "display_name": "Python 3",
      "language": "python",
      "name": "python3"
    },
    "language_info": {
      "codemirror_mode": {
        "name": "ipython",
        "version": 3
      },
      "file_extension": ".py",
      "mimetype": "text/x-python",
      "name": "python",
      "nbconvert_exporter": "python",
      "pygments_lexer": "ipython3",
      "version": "3.8.2"
    }
  },
  "cells": [
    {
      "cell_type": "markdown",
      "metadata": {
        "id": "view-in-github",
        "colab_type": "text"
      },
      "source": [
        "<a href=\"https://colab.research.google.com/github/Veroberg/Projeto_Final_Awari/blob/main/C%C3%B3pia_de_PROJETO_AWARI_Ver%C3%B4nica.ipynb\" target=\"_parent\"><img src=\"https://colab.research.google.com/assets/colab-badge.svg\" alt=\"Open In Colab\"/></a>"
      ]
    },
    {
      "cell_type": "markdown",
      "metadata": {
        "id": "KTDTpmmnVyu4"
      },
      "source": [
        "\n",
        "#<h2><p style=\"background-color:beige; color:black\"><a><b>A otimização do atendimento em loja virtual de roupas</h2></p></b></a>\n"
      ]
    },
    {
      "cell_type": "markdown",
      "metadata": {
        "id": "CYn7VNr_Vyu5"
      },
      "source": [
        "### I - Exposição do problema\n"
      ]
    },
    {
      "cell_type": "markdown",
      "metadata": {
        "id": "jEKgQqT7Vyu5"
      },
      "source": [
        "### Identificação do problema do projeto a ser resolvido\n",
        "\n",
        "*Analisar os pontos positivos e negativos proporcionados pelo atendimento fornecido pela loja virtual com intuíto de gerar qualidade e aprimoramento, entendendo os fatores que impactam a satisfação do cliente com experiência de compra no site.*"
      ]
    },
    {
      "cell_type": "markdown",
      "metadata": {
        "id": "-NNRTeltVyu6"
      },
      "source": [
        "### O motivo de solucionar o problema\n",
        "\n",
        "*Gerar qualidade de atendimento ao cliente, oferecendo produtos  adequados à suas necessidades, e portanto gerando satisfação. Com isto, haverá fidelizações de clientes à loja, tornando um possível aumento de retenção.\n",
        "Perguntas chaves a serem respondidas como uma solução ao problema: Qual o impacto financeiro causado por cada cliente insatisfeito com o atendimento? Qual o valor do investimento aplicado pela loja afim de solucionar problemas gerados e levantar a imagem da loja*"
      ]
    },
    {
      "cell_type": "markdown",
      "metadata": {
        "id": "y3aWAhdWVyu6"
      },
      "source": [
        "### Proposta de solução do problema\n",
        "\n",
        "*Serão identificadas as variáveis que afetam e influenciam a experiência dos clientes, adotando uma modelagem de dados, usando técnicas de Machine Learning para descobrir os fatores que impactam a variável de avaliação ao atendimento direcionado aos clientes, e que permitirá criar e adotar formas de melhorias à esse atendimento.*"
      ]
    },
    {
      "cell_type": "markdown",
      "metadata": {
        "id": "l8zywcGOVyu7"
      },
      "source": [
        "### A forma da utilização dos dados escolhidos para resolver o problema e a identificação das informações a serem solucionadas\n",
        "\n",
        "* A cada pedido feito pelos clientes, gera uma variável de avaliação sobreo atendimento oferecido, assim como variáveis que disponibiliza o perfil de cada cliente que comprou, e de cada produto adquirido. Portanto caberá nessa análise, criar um modelo através deste conjunto de informações armazenadas, e descobrir quais delas impacta no feedback do cliente. As informações necessárias, que se tornam o foco de estudo e análise são, estudar o comportamento dos consumidores, selecionar os pontos que os influenciam a consumir certos produtos, identificando tendências de mercado.\n",
        " cada etapa abrange a transformação de dados em informações, ou seja, cada coluna do dataset serão adaptadas de acordo com a sua necessidade, dicionários serão object, números inteiros serão int, textos serão string, dentre outros, de acordo com o valor que foi inserido na coluna. Além disso serão detectados valores nulos (NaN), que são incoerentes com o tipo esperado para as colunas, através do método info(), tratados com o método df.fillna(), e excluídos com a função dropna.\n",
        "Após, serão estruturadas pelo método plot(), podendo mesclar e gerar novas colunas, assim como exclui-las e analisa-las através de variáveis recebidas dividindo-as para encaixa-las em cada parte a ser analisada, escolhendo modelos de simulação e estatística, que seria preditivo utilizado sklearn.* "
      ]
    },
    {
      "cell_type": "markdown",
      "metadata": {
        "id": "ei-KoiNjVyu7"
      },
      "source": [
        "### II - Coleta ou Importação dos dados"
      ]
    },
    {
      "cell_type": "markdown",
      "metadata": {
        "id": "VFAbZU4eVyu7"
      },
      "source": [
        "### Dados escolhidos para usar no projeto e o local de sua disponilidade\n",
        "\n",
        "*Os dados utilizados estão disponíveis [neste link](https://www.kaggle.com/rmisra/clothing-fit-dataset-for-size-recommendation?select=renttherunway_final_data.json) do kaggle. Eles são da RentTheRunWay, um site onde você pode **alugar** peças roupas.\n"
      ]
    },
    {
      "cell_type": "markdown",
      "metadata": {
        "id": "2YqpHkbsVyu7"
      },
      "source": [
        "### Leitura dos dados\n",
        "\n",
        "*Carregando o Dataframe em memória utilizando a biblioteca Pandas para poder ler os dados, porque estão no formato JSON,. Extraindo valores das colunas ao passar o caminho do arquivo, informando a linha 'lines=True' depois da vírgula.*\n"
      ]
    },
    {
      "cell_type": "code",
      "metadata": {
        "id": "mBk5hpFPVyu8",
        "colab": {
          "base_uri": "https://localhost:8080/"
        },
        "outputId": "19a6f8fd-17ce-436c-f095-7b03290ec351"
      },
      "source": [
        "# Importação das bibliotecas pandas, numpy, matplotlib, seaborn, json (Obs: O \"as\" é um “apelido”, permitindo eu digitar um código 'pd, em vez de escrever'pandas)\n",
        "\n",
        "import numpy as np  \n",
        "import pandas as pd \n",
        "import matplotlib.pyplot as plt\n",
        "import seaborn as sns\n",
        "import json\n",
        "\n",
        "# Permite os gráficos gerados serem mostrados dentro do notebook\n",
        "\n",
        "%matplotlib inline\n",
        "\n",
        "# Adiciona cores e padrões diferentes para personalizar os gráficos\n",
        "\n",
        "plt.style.use('ggplot')\n",
        "\n",
        "# Cria subclasses de tupla com campos nomeados \n",
        "\n",
        "from collections import namedtuple\n",
        "\n",
        "# Biblioteca que permite trabalhar com mapas\n",
        "\n",
        "!pip install folium  \n",
        "\n",
        "# Aciona a importação de vários módulos dentro do Matplotlib\n",
        "\n",
        "%pylab inline\n",
        "\n",
        "# Permite a  manipulação de dados geoespaciais no Python\n",
        "\n",
        "!pip install geopandas\n",
        "import geopandas as gpd\n",
        "\n",
        "from sklearn.model_selection import train_test_split\n",
        "import keras\n",
        "from keras.models import Sequential\n",
        "from keras.layers import Dense \n",
        "from sklearn.preprocessing import LabelEncoder\n",
        "\n",
        "LE = LabelEncoder()\n",
        "\n",
        "np.random.seed(2)\n",
        "\n",
        "# Acesso a mapas\n",
        "\n",
        "!pip install folium"
      ],
      "execution_count": 3,
      "outputs": [
        {
          "output_type": "stream",
          "text": [
            "Requirement already satisfied: folium in /usr/local/lib/python3.7/dist-packages (0.8.3)\n",
            "Requirement already satisfied: branca>=0.3.0 in /usr/local/lib/python3.7/dist-packages (from folium) (0.4.2)\n",
            "Requirement already satisfied: requests in /usr/local/lib/python3.7/dist-packages (from folium) (2.23.0)\n",
            "Requirement already satisfied: jinja2 in /usr/local/lib/python3.7/dist-packages (from folium) (2.11.3)\n",
            "Requirement already satisfied: numpy in /usr/local/lib/python3.7/dist-packages (from folium) (1.19.5)\n",
            "Requirement already satisfied: six in /usr/local/lib/python3.7/dist-packages (from folium) (1.15.0)\n",
            "Requirement already satisfied: MarkupSafe>=0.23 in /usr/local/lib/python3.7/dist-packages (from jinja2->folium) (2.0.1)\n",
            "Requirement already satisfied: chardet<4,>=3.0.2 in /usr/local/lib/python3.7/dist-packages (from requests->folium) (3.0.4)\n",
            "Requirement already satisfied: certifi>=2017.4.17 in /usr/local/lib/python3.7/dist-packages (from requests->folium) (2021.5.30)\n",
            "Requirement already satisfied: idna<3,>=2.5 in /usr/local/lib/python3.7/dist-packages (from requests->folium) (2.10)\n",
            "Requirement already satisfied: urllib3!=1.25.0,!=1.25.1,<1.26,>=1.21.1 in /usr/local/lib/python3.7/dist-packages (from requests->folium) (1.24.3)\n",
            "Populating the interactive namespace from numpy and matplotlib\n",
            "Requirement already satisfied: geopandas in /usr/local/lib/python3.7/dist-packages (0.9.0)\n",
            "Requirement already satisfied: pandas>=0.24.0 in /usr/local/lib/python3.7/dist-packages (from geopandas) (1.1.5)\n",
            "Requirement already satisfied: pyproj>=2.2.0 in /usr/local/lib/python3.7/dist-packages (from geopandas) (3.1.0)\n",
            "Requirement already satisfied: fiona>=1.8 in /usr/local/lib/python3.7/dist-packages (from geopandas) (1.8.20)\n",
            "Requirement already satisfied: shapely>=1.6 in /usr/local/lib/python3.7/dist-packages (from geopandas) (1.7.1)\n",
            "Requirement already satisfied: certifi in /usr/local/lib/python3.7/dist-packages (from fiona>=1.8->geopandas) (2021.5.30)\n",
            "Requirement already satisfied: setuptools in /usr/local/lib/python3.7/dist-packages (from fiona>=1.8->geopandas) (57.2.0)\n",
            "Requirement already satisfied: six>=1.7 in /usr/local/lib/python3.7/dist-packages (from fiona>=1.8->geopandas) (1.15.0)\n",
            "Requirement already satisfied: click-plugins>=1.0 in /usr/local/lib/python3.7/dist-packages (from fiona>=1.8->geopandas) (1.1.1)\n",
            "Requirement already satisfied: attrs>=17 in /usr/local/lib/python3.7/dist-packages (from fiona>=1.8->geopandas) (21.2.0)\n",
            "Requirement already satisfied: cligj>=0.5 in /usr/local/lib/python3.7/dist-packages (from fiona>=1.8->geopandas) (0.7.2)\n",
            "Requirement already satisfied: click>=4.0 in /usr/local/lib/python3.7/dist-packages (from fiona>=1.8->geopandas) (7.1.2)\n",
            "Requirement already satisfied: munch in /usr/local/lib/python3.7/dist-packages (from fiona>=1.8->geopandas) (2.5.0)\n",
            "Requirement already satisfied: pytz>=2017.2 in /usr/local/lib/python3.7/dist-packages (from pandas>=0.24.0->geopandas) (2018.9)\n",
            "Requirement already satisfied: numpy>=1.15.4 in /usr/local/lib/python3.7/dist-packages (from pandas>=0.24.0->geopandas) (1.19.5)\n",
            "Requirement already satisfied: python-dateutil>=2.7.3 in /usr/local/lib/python3.7/dist-packages (from pandas>=0.24.0->geopandas) (2.8.1)\n",
            "Requirement already satisfied: folium in /usr/local/lib/python3.7/dist-packages (0.8.3)\n",
            "Requirement already satisfied: jinja2 in /usr/local/lib/python3.7/dist-packages (from folium) (2.11.3)\n",
            "Requirement already satisfied: six in /usr/local/lib/python3.7/dist-packages (from folium) (1.15.0)\n",
            "Requirement already satisfied: numpy in /usr/local/lib/python3.7/dist-packages (from folium) (1.19.5)\n",
            "Requirement already satisfied: requests in /usr/local/lib/python3.7/dist-packages (from folium) (2.23.0)\n",
            "Requirement already satisfied: branca>=0.3.0 in /usr/local/lib/python3.7/dist-packages (from folium) (0.4.2)\n",
            "Requirement already satisfied: MarkupSafe>=0.23 in /usr/local/lib/python3.7/dist-packages (from jinja2->folium) (2.0.1)\n",
            "Requirement already satisfied: urllib3!=1.25.0,!=1.25.1,<1.26,>=1.21.1 in /usr/local/lib/python3.7/dist-packages (from requests->folium) (1.24.3)\n",
            "Requirement already satisfied: certifi>=2017.4.17 in /usr/local/lib/python3.7/dist-packages (from requests->folium) (2021.5.30)\n",
            "Requirement already satisfied: idna<3,>=2.5 in /usr/local/lib/python3.7/dist-packages (from requests->folium) (2.10)\n",
            "Requirement already satisfied: chardet<4,>=3.0.2 in /usr/local/lib/python3.7/dist-packages (from requests->folium) (3.0.4)\n"
          ],
          "name": "stdout"
        }
      ]
    },
    {
      "cell_type": "code",
      "metadata": {
        "id": "bvwlVkRcVyu9"
      },
      "source": [
        "# Importação dos dados a serem analisados\n",
        "\n",
        "assessment = pd.read_json(\"/content/renttherunway_final_data.json\", lines=True)"
      ],
      "execution_count": 4,
      "outputs": []
    },
    {
      "cell_type": "markdown",
      "metadata": {
        "id": "VudTsQ6XVyu9"
      },
      "source": [
        "### Leitura dos dados.\n",
        "\n",
        "*Imprimindo algumas linhas com o método head().T, exibindo os dados.*\n"
      ]
    },
    {
      "cell_type": "code",
      "metadata": {
        "id": "E_UwsxigVyu9",
        "colab": {
          "base_uri": "https://localhost:8080/",
          "height": 800
        },
        "outputId": "02b11d4c-7ec9-4f0d-b641-7cbed7baa59e"
      },
      "source": [
        "# LEIA AS PRIMEIRAS LINHAS DOS SEUS DADOS AQUI\n",
        "\n",
        "# Depois de importar o DataFrame, abre um conjunto de dados, permitindo visualizar.\n",
        "\n",
        "assessment.head(15).T"
      ],
      "execution_count": 5,
      "outputs": [
        {
          "output_type": "execute_result",
          "data": {
            "text/html": [
              "<div>\n",
              "<style scoped>\n",
              "    .dataframe tbody tr th:only-of-type {\n",
              "        vertical-align: middle;\n",
              "    }\n",
              "\n",
              "    .dataframe tbody tr th {\n",
              "        vertical-align: top;\n",
              "    }\n",
              "\n",
              "    .dataframe thead th {\n",
              "        text-align: right;\n",
              "    }\n",
              "</style>\n",
              "<table border=\"1\" class=\"dataframe\">\n",
              "  <thead>\n",
              "    <tr style=\"text-align: right;\">\n",
              "      <th></th>\n",
              "      <th>0</th>\n",
              "      <th>1</th>\n",
              "      <th>2</th>\n",
              "      <th>3</th>\n",
              "      <th>4</th>\n",
              "      <th>5</th>\n",
              "      <th>6</th>\n",
              "      <th>7</th>\n",
              "      <th>8</th>\n",
              "      <th>9</th>\n",
              "      <th>10</th>\n",
              "      <th>11</th>\n",
              "      <th>12</th>\n",
              "      <th>13</th>\n",
              "      <th>14</th>\n",
              "    </tr>\n",
              "  </thead>\n",
              "  <tbody>\n",
              "    <tr>\n",
              "      <th>fit</th>\n",
              "      <td>fit</td>\n",
              "      <td>fit</td>\n",
              "      <td>fit</td>\n",
              "      <td>fit</td>\n",
              "      <td>fit</td>\n",
              "      <td>fit</td>\n",
              "      <td>fit</td>\n",
              "      <td>fit</td>\n",
              "      <td>fit</td>\n",
              "      <td>fit</td>\n",
              "      <td>small</td>\n",
              "      <td>large</td>\n",
              "      <td>fit</td>\n",
              "      <td>large</td>\n",
              "      <td>fit</td>\n",
              "    </tr>\n",
              "    <tr>\n",
              "      <th>user_id</th>\n",
              "      <td>420272</td>\n",
              "      <td>273551</td>\n",
              "      <td>360448</td>\n",
              "      <td>909926</td>\n",
              "      <td>151944</td>\n",
              "      <td>734848</td>\n",
              "      <td>336066</td>\n",
              "      <td>86661</td>\n",
              "      <td>166228</td>\n",
              "      <td>154309</td>\n",
              "      <td>185966</td>\n",
              "      <td>533900</td>\n",
              "      <td>87660</td>\n",
              "      <td>391778</td>\n",
              "      <td>721308</td>\n",
              "    </tr>\n",
              "    <tr>\n",
              "      <th>bust size</th>\n",
              "      <td>34d</td>\n",
              "      <td>34b</td>\n",
              "      <td>NaN</td>\n",
              "      <td>34c</td>\n",
              "      <td>34b</td>\n",
              "      <td>32b</td>\n",
              "      <td>34c</td>\n",
              "      <td>34d+</td>\n",
              "      <td>36d</td>\n",
              "      <td>32b</td>\n",
              "      <td>34b</td>\n",
              "      <td>34b</td>\n",
              "      <td>36a</td>\n",
              "      <td>36d</td>\n",
              "      <td>34b</td>\n",
              "    </tr>\n",
              "    <tr>\n",
              "      <th>item_id</th>\n",
              "      <td>2260466</td>\n",
              "      <td>153475</td>\n",
              "      <td>1063761</td>\n",
              "      <td>126335</td>\n",
              "      <td>616682</td>\n",
              "      <td>364092</td>\n",
              "      <td>568429</td>\n",
              "      <td>130259</td>\n",
              "      <td>1729232</td>\n",
              "      <td>1729232</td>\n",
              "      <td>1077123</td>\n",
              "      <td>130259</td>\n",
              "      <td>1295171</td>\n",
              "      <td>143094</td>\n",
              "      <td>123793</td>\n",
              "    </tr>\n",
              "    <tr>\n",
              "      <th>weight</th>\n",
              "      <td>137lbs</td>\n",
              "      <td>132lbs</td>\n",
              "      <td>NaN</td>\n",
              "      <td>135lbs</td>\n",
              "      <td>145lbs</td>\n",
              "      <td>138lbs</td>\n",
              "      <td>112lbs</td>\n",
              "      <td>118lbs</td>\n",
              "      <td>NaN</td>\n",
              "      <td>114lbs</td>\n",
              "      <td>135lbs</td>\n",
              "      <td>135lbs</td>\n",
              "      <td>120lbs</td>\n",
              "      <td>142lbs</td>\n",
              "      <td>118lbs</td>\n",
              "    </tr>\n",
              "    <tr>\n",
              "      <th>rating</th>\n",
              "      <td>10</td>\n",
              "      <td>10</td>\n",
              "      <td>10</td>\n",
              "      <td>8</td>\n",
              "      <td>10</td>\n",
              "      <td>8</td>\n",
              "      <td>10</td>\n",
              "      <td>10</td>\n",
              "      <td>10</td>\n",
              "      <td>10</td>\n",
              "      <td>8</td>\n",
              "      <td>8</td>\n",
              "      <td>10</td>\n",
              "      <td>8</td>\n",
              "      <td>10</td>\n",
              "    </tr>\n",
              "    <tr>\n",
              "      <th>rented for</th>\n",
              "      <td>vacation</td>\n",
              "      <td>other</td>\n",
              "      <td>party</td>\n",
              "      <td>formal affair</td>\n",
              "      <td>wedding</td>\n",
              "      <td>date</td>\n",
              "      <td>everyday</td>\n",
              "      <td>formal affair</td>\n",
              "      <td>formal affair</td>\n",
              "      <td>formal affair</td>\n",
              "      <td>party</td>\n",
              "      <td>wedding</td>\n",
              "      <td>party</td>\n",
              "      <td>party</td>\n",
              "      <td>formal affair</td>\n",
              "    </tr>\n",
              "    <tr>\n",
              "      <th>review_text</th>\n",
              "      <td>An adorable romper! Belt and zipper were a lit...</td>\n",
              "      <td>I rented this dress for a photo shoot. The the...</td>\n",
              "      <td>This hugged in all the right places! It was a ...</td>\n",
              "      <td>I rented this for my company's black tie award...</td>\n",
              "      <td>I have always been petite in my upper body and...</td>\n",
              "      <td>Didn't actually wear it. It fit perfectly. The...</td>\n",
              "      <td>This dress is so sweet. I loved the print. The...</td>\n",
              "      <td>Fit was great. Maybe a little tight under the ...</td>\n",
              "      <td>I was nervous of it looking cheap when it arri...</td>\n",
              "      <td>The dress was very flattering and fit perfectl...</td>\n",
              "      <td>The dress arrived with a small hole in the bea...</td>\n",
              "      <td>This dress was absolutely gorgeous and I recei...</td>\n",
              "      <td>The S was snug but in a good way. I wore a pus...</td>\n",
              "      <td>I ordered this dress as a replacement because ...</td>\n",
              "      <td>Fit great, super flattering</td>\n",
              "    </tr>\n",
              "    <tr>\n",
              "      <th>body type</th>\n",
              "      <td>hourglass</td>\n",
              "      <td>straight &amp; narrow</td>\n",
              "      <td>NaN</td>\n",
              "      <td>pear</td>\n",
              "      <td>athletic</td>\n",
              "      <td>athletic</td>\n",
              "      <td>hourglass</td>\n",
              "      <td>full bust</td>\n",
              "      <td>full bust</td>\n",
              "      <td>petite</td>\n",
              "      <td>athletic</td>\n",
              "      <td>pear</td>\n",
              "      <td>straight &amp; narrow</td>\n",
              "      <td>apple</td>\n",
              "      <td>athletic</td>\n",
              "    </tr>\n",
              "    <tr>\n",
              "      <th>review_summary</th>\n",
              "      <td>So many compliments!</td>\n",
              "      <td>I felt so glamourous!!!</td>\n",
              "      <td>It was a great time to celebrate the (almost) ...</td>\n",
              "      <td>Dress arrived on time and in perfect condition.</td>\n",
              "      <td>Was in love with this dress !!!</td>\n",
              "      <td>Traditional with a touch a sass</td>\n",
              "      <td>LITERALLY THE CUTEST DRESS EVER</td>\n",
              "      <td>Great dress, beautifully made.  I received lot...</td>\n",
              "      <td>Great for black tie event!</td>\n",
              "      <td>This dress was everything! It was perfect for ...</td>\n",
              "      <td>It was fun to wear a dress I wouldn't normally...</td>\n",
              "      <td>Stunning dress, perfect for a New Year's Eve w...</td>\n",
              "      <td>This dress made me feel so confident &amp; sexy!</td>\n",
              "      <td>Ordered this as a replacement dress</td>\n",
              "      <td>Stunning gown. Wore this for heart ball and re...</td>\n",
              "    </tr>\n",
              "    <tr>\n",
              "      <th>category</th>\n",
              "      <td>romper</td>\n",
              "      <td>gown</td>\n",
              "      <td>sheath</td>\n",
              "      <td>dress</td>\n",
              "      <td>gown</td>\n",
              "      <td>dress</td>\n",
              "      <td>dress</td>\n",
              "      <td>dress</td>\n",
              "      <td>gown</td>\n",
              "      <td>gown</td>\n",
              "      <td>dress</td>\n",
              "      <td>dress</td>\n",
              "      <td>sheath</td>\n",
              "      <td>dress</td>\n",
              "      <td>gown</td>\n",
              "    </tr>\n",
              "    <tr>\n",
              "      <th>height</th>\n",
              "      <td>5' 8\"</td>\n",
              "      <td>5' 6\"</td>\n",
              "      <td>5' 4\"</td>\n",
              "      <td>5' 5\"</td>\n",
              "      <td>5' 9\"</td>\n",
              "      <td>5' 8\"</td>\n",
              "      <td>5' 3\"</td>\n",
              "      <td>5' 3\"</td>\n",
              "      <td>5' 6\"</td>\n",
              "      <td>5' 3\"</td>\n",
              "      <td>5' 3\"</td>\n",
              "      <td>5' 6\"</td>\n",
              "      <td>5' 6\"</td>\n",
              "      <td>5' 2\"</td>\n",
              "      <td>5' 5\"</td>\n",
              "    </tr>\n",
              "    <tr>\n",
              "      <th>size</th>\n",
              "      <td>14</td>\n",
              "      <td>12</td>\n",
              "      <td>4</td>\n",
              "      <td>8</td>\n",
              "      <td>12</td>\n",
              "      <td>8</td>\n",
              "      <td>4</td>\n",
              "      <td>8</td>\n",
              "      <td>21</td>\n",
              "      <td>1</td>\n",
              "      <td>12</td>\n",
              "      <td>8</td>\n",
              "      <td>8</td>\n",
              "      <td>20</td>\n",
              "      <td>2</td>\n",
              "    </tr>\n",
              "    <tr>\n",
              "      <th>age</th>\n",
              "      <td>28</td>\n",
              "      <td>36</td>\n",
              "      <td>116</td>\n",
              "      <td>34</td>\n",
              "      <td>27</td>\n",
              "      <td>45</td>\n",
              "      <td>27</td>\n",
              "      <td>65</td>\n",
              "      <td>27</td>\n",
              "      <td>33</td>\n",
              "      <td>33</td>\n",
              "      <td>30</td>\n",
              "      <td>26</td>\n",
              "      <td>29</td>\n",
              "      <td>32</td>\n",
              "    </tr>\n",
              "    <tr>\n",
              "      <th>review_date</th>\n",
              "      <td>April 20, 2016</td>\n",
              "      <td>June 18, 2013</td>\n",
              "      <td>December 14, 2015</td>\n",
              "      <td>February 12, 2014</td>\n",
              "      <td>September 26, 2016</td>\n",
              "      <td>April 30, 2016</td>\n",
              "      <td>December 7, 2017</td>\n",
              "      <td>January 1, 2013</td>\n",
              "      <td>June 27, 2016</td>\n",
              "      <td>October 17, 2016</td>\n",
              "      <td>January 2, 2018</td>\n",
              "      <td>January 7, 2013</td>\n",
              "      <td>July 28, 2016</td>\n",
              "      <td>October 4, 2014</td>\n",
              "      <td>May 29, 2014</td>\n",
              "    </tr>\n",
              "  </tbody>\n",
              "</table>\n",
              "</div>"
            ],
            "text/plain": [
              "                                                               0   ...                                                 14\n",
              "fit                                                           fit  ...                                                fit\n",
              "user_id                                                    420272  ...                                             721308\n",
              "bust size                                                     34d  ...                                                34b\n",
              "item_id                                                   2260466  ...                                             123793\n",
              "weight                                                     137lbs  ...                                             118lbs\n",
              "rating                                                         10  ...                                                 10\n",
              "rented for                                               vacation  ...                                      formal affair\n",
              "review_text     An adorable romper! Belt and zipper were a lit...  ...                        Fit great, super flattering\n",
              "body type                                               hourglass  ...                                           athletic\n",
              "review_summary                               So many compliments!  ...  Stunning gown. Wore this for heart ball and re...\n",
              "category                                                   romper  ...                                               gown\n",
              "height                                                      5' 8\"  ...                                              5' 5\"\n",
              "size                                                           14  ...                                                  2\n",
              "age                                                            28  ...                                                 32\n",
              "review_date                                        April 20, 2016  ...                                       May 29, 2014\n",
              "\n",
              "[15 rows x 15 columns]"
            ]
          },
          "metadata": {
            "tags": []
          },
          "execution_count": 5
        }
      ]
    },
    {
      "cell_type": "markdown",
      "metadata": {
        "id": "RSFAwn6nVyu9"
      },
      "source": [
        "### III - Preparação dos dados"
      ]
    },
    {
      "cell_type": "markdown",
      "metadata": {
        "id": "XpbfmGRLVyu-"
      },
      "source": [
        "### Quais colunas pertencem aos dados e seus significados\n",
        "\n",
        "*As colunas presentes neste Dataset são:*\n",
        "\n",
        "* 'fit' = formato, tamanho das peças de roupas*\n",
        "\n",
        "*-'user_id': identificação do usuário;*\n",
        "\n",
        "*-'bust size': tamanho do busto;*\n",
        "\n",
        "*-'item_id': identificação de cada tipo de roupa;*\n",
        "\n",
        "*-'weight': peso; 'rating':  atribuída pelos clientes;*\n",
        "\n",
        "*-'rented for': para qual ocasião a peça de roupa comprada será urtilizada;*\n",
        "\n",
        "*-'review_text': feedback sobre os produtos comprados pelos clientes;*\n",
        "\n",
        "*-'body type': tipo de corpo;*\n",
        "\n",
        "*-'review_summary': opininião atribuída pelos clientes dante da compra efetuada*\n",
        "\n",
        "*-'category': categoria de cada produto;*\n",
        "\n",
        "*-'height': altura;*\n",
        "\n",
        "*-'size': tamanho do cliente;*\n",
        "\n",
        "*-'age': idade;*\n",
        "\n",
        "*-'review_date': data revisada.*\n"
      ]
    },
    {
      "cell_type": "code",
      "metadata": {
        "id": "CKyNg6AXVyu-",
        "colab": {
          "base_uri": "https://localhost:8080/"
        },
        "outputId": "c1d9514e-e7fd-4bdb-eed5-0bf55becd3ff"
      },
      "source": [
        "# EXIBIÇÃO DAS COLUNAS DOS DADOS\n",
        "\n",
        "# Substitui espaços por \"_\" no nome das colunas\n",
        "\n",
        "assessment.columns = assessment.columns.str.replace(' ', '_', regex=True)\n",
        "\n",
        "#Exibe as colunas \n",
        "\n",
        "assessment.columns"
      ],
      "execution_count": 6,
      "outputs": [
        {
          "output_type": "execute_result",
          "data": {
            "text/plain": [
              "Index(['fit', 'user_id', 'bust_size', 'item_id', 'weight', 'rating',\n",
              "       'rented_for', 'review_text', 'body_type', 'review_summary', 'category',\n",
              "       'height', 'size', 'age', 'review_date'],\n",
              "      dtype='object')"
            ]
          },
          "metadata": {
            "tags": []
          },
          "execution_count": 6
        }
      ]
    },
    {
      "cell_type": "code",
      "metadata": {
        "id": "2qWq5fO3Vyu-",
        "colab": {
          "base_uri": "https://localhost:8080/"
        },
        "outputId": "a3758067-b646-4a4c-b9e1-4cfe44467d11"
      },
      "source": [
        "# EXIBIÇÃO DAS COLUNAS DOS DADOS\n",
        "\n",
        "assessment.dtypes"
      ],
      "execution_count": 7,
      "outputs": [
        {
          "output_type": "execute_result",
          "data": {
            "text/plain": [
              "fit                object\n",
              "user_id             int64\n",
              "bust_size          object\n",
              "item_id             int64\n",
              "weight             object\n",
              "rating            float64\n",
              "rented_for         object\n",
              "review_text        object\n",
              "body_type          object\n",
              "review_summary     object\n",
              "category           object\n",
              "height             object\n",
              "size                int64\n",
              "age               float64\n",
              "review_date        object\n",
              "dtype: object"
            ]
          },
          "metadata": {
            "tags": []
          },
          "execution_count": 7
        }
      ]
    },
    {
      "cell_type": "markdown",
      "metadata": {
        "id": "EZtHAxHkVyu-"
      },
      "source": [
        "***Algumas colunas são do tipo 'object', outras int64, e outras float64.***"
      ]
    },
    {
      "cell_type": "code",
      "metadata": {
        "id": "ikE55lFFVyu_",
        "colab": {
          "base_uri": "https://localhost:8080/"
        },
        "outputId": "58fbe39b-692d-44c0-8af8-8eacb0db7eb7"
      },
      "source": [
        "# EXIBIÇÃO DA QUANTIDADE DE LINHAS E DE COLUNAS DOS DADOS\n",
        "\n",
        "assessment.shape"
      ],
      "execution_count": 8,
      "outputs": [
        {
          "output_type": "execute_result",
          "data": {
            "text/plain": [
              "(192544, 15)"
            ]
          },
          "metadata": {
            "tags": []
          },
          "execution_count": 8
        }
      ]
    },
    {
      "cell_type": "markdown",
      "metadata": {
        "id": "rqTTeL1LVyu_"
      },
      "source": [
        "***São 192.544 linhas e 15 colunas.***"
      ]
    },
    {
      "cell_type": "markdown",
      "metadata": {
        "id": "X0Knroxa4FO5"
      },
      "source": [
        "***Os dados foram lidos corretamente e estão prontos para serem analisados, como as colunas que possuem as informações reais, e por isso é preciso trata-las corretamente com código que consigam serem rodados, permitindo uma análise segura. Mais em: https://realpython.com/python-data-types/***"
      ]
    },
    {
      "cell_type": "markdown",
      "metadata": {
        "id": "Y7l2rcOBVyu_"
      },
      "source": [
        "### Identificação das colunas desnecessárias para a análise\n",
        "\n",
        "*É importante manter as colunas chaves e descartar as menos impactantes em relação à solução do problema em questão, ressaltando as variáveis que devem ser retiradas.*\n",
        "\n",
        "*Através de uma análise, será removido as seguintes variáveis:*\n",
        "\n",
        "*user_id (Identificador do usuário): Como Não poderá ser controlado os clientes que por exemplo são difíceis de poder agradar, então esta coluna é retirada.*\n",
        "\n",
        "*review_date (Data de avaliação): Não afeta a questão da análise da qualidade do produto ou da experiência do cliente, então também esta coluna será retirada.*\n",
        "\n",
        "*review_text & review_summary: São variáveis de textos podendo escrever livremente. Por oprecisar de uma técnica mais sofisticada de avaliação, para esta análise não será necessária esta coluna.*\n",
        "\n",
        "*OBS: Como um Data Science tem um trabalho que envolve pensar, testar e revisar, se houver opiniões diferentes, terá liberdade de incorporar variáveis que poderão complementar e enriquecer este conteúdo.*"
      ]
    },
    {
      "cell_type": "code",
      "metadata": {
        "id": "txVeAqr5Vyu_",
        "colab": {
          "base_uri": "https://localhost:8080/",
          "height": 417
        },
        "outputId": "e26400dc-3f95-4936-db61-3fd532d8b6ba"
      },
      "source": [
        "# REMOÇÃO DAS COLUNAS INÚTEIS PARA A ANÁLISE\n",
        "\n",
        "assessment.drop(['user_id', 'review_date', 'review_text', 'review_summary'], axis=1, inplace=True)\n",
        "assessment"
      ],
      "execution_count": 9,
      "outputs": [
        {
          "output_type": "execute_result",
          "data": {
            "text/html": [
              "<div>\n",
              "<style scoped>\n",
              "    .dataframe tbody tr th:only-of-type {\n",
              "        vertical-align: middle;\n",
              "    }\n",
              "\n",
              "    .dataframe tbody tr th {\n",
              "        vertical-align: top;\n",
              "    }\n",
              "\n",
              "    .dataframe thead th {\n",
              "        text-align: right;\n",
              "    }\n",
              "</style>\n",
              "<table border=\"1\" class=\"dataframe\">\n",
              "  <thead>\n",
              "    <tr style=\"text-align: right;\">\n",
              "      <th></th>\n",
              "      <th>fit</th>\n",
              "      <th>bust_size</th>\n",
              "      <th>item_id</th>\n",
              "      <th>weight</th>\n",
              "      <th>rating</th>\n",
              "      <th>rented_for</th>\n",
              "      <th>body_type</th>\n",
              "      <th>category</th>\n",
              "      <th>height</th>\n",
              "      <th>size</th>\n",
              "      <th>age</th>\n",
              "    </tr>\n",
              "  </thead>\n",
              "  <tbody>\n",
              "    <tr>\n",
              "      <th>0</th>\n",
              "      <td>fit</td>\n",
              "      <td>34d</td>\n",
              "      <td>2260466</td>\n",
              "      <td>137lbs</td>\n",
              "      <td>10.0</td>\n",
              "      <td>vacation</td>\n",
              "      <td>hourglass</td>\n",
              "      <td>romper</td>\n",
              "      <td>5' 8\"</td>\n",
              "      <td>14</td>\n",
              "      <td>28.0</td>\n",
              "    </tr>\n",
              "    <tr>\n",
              "      <th>1</th>\n",
              "      <td>fit</td>\n",
              "      <td>34b</td>\n",
              "      <td>153475</td>\n",
              "      <td>132lbs</td>\n",
              "      <td>10.0</td>\n",
              "      <td>other</td>\n",
              "      <td>straight &amp; narrow</td>\n",
              "      <td>gown</td>\n",
              "      <td>5' 6\"</td>\n",
              "      <td>12</td>\n",
              "      <td>36.0</td>\n",
              "    </tr>\n",
              "    <tr>\n",
              "      <th>2</th>\n",
              "      <td>fit</td>\n",
              "      <td>NaN</td>\n",
              "      <td>1063761</td>\n",
              "      <td>NaN</td>\n",
              "      <td>10.0</td>\n",
              "      <td>party</td>\n",
              "      <td>NaN</td>\n",
              "      <td>sheath</td>\n",
              "      <td>5' 4\"</td>\n",
              "      <td>4</td>\n",
              "      <td>116.0</td>\n",
              "    </tr>\n",
              "    <tr>\n",
              "      <th>3</th>\n",
              "      <td>fit</td>\n",
              "      <td>34c</td>\n",
              "      <td>126335</td>\n",
              "      <td>135lbs</td>\n",
              "      <td>8.0</td>\n",
              "      <td>formal affair</td>\n",
              "      <td>pear</td>\n",
              "      <td>dress</td>\n",
              "      <td>5' 5\"</td>\n",
              "      <td>8</td>\n",
              "      <td>34.0</td>\n",
              "    </tr>\n",
              "    <tr>\n",
              "      <th>4</th>\n",
              "      <td>fit</td>\n",
              "      <td>34b</td>\n",
              "      <td>616682</td>\n",
              "      <td>145lbs</td>\n",
              "      <td>10.0</td>\n",
              "      <td>wedding</td>\n",
              "      <td>athletic</td>\n",
              "      <td>gown</td>\n",
              "      <td>5' 9\"</td>\n",
              "      <td>12</td>\n",
              "      <td>27.0</td>\n",
              "    </tr>\n",
              "    <tr>\n",
              "      <th>...</th>\n",
              "      <td>...</td>\n",
              "      <td>...</td>\n",
              "      <td>...</td>\n",
              "      <td>...</td>\n",
              "      <td>...</td>\n",
              "      <td>...</td>\n",
              "      <td>...</td>\n",
              "      <td>...</td>\n",
              "      <td>...</td>\n",
              "      <td>...</td>\n",
              "      <td>...</td>\n",
              "    </tr>\n",
              "    <tr>\n",
              "      <th>192539</th>\n",
              "      <td>fit</td>\n",
              "      <td>34dd</td>\n",
              "      <td>2252812</td>\n",
              "      <td>140lbs</td>\n",
              "      <td>10.0</td>\n",
              "      <td>work</td>\n",
              "      <td>hourglass</td>\n",
              "      <td>jumpsuit</td>\n",
              "      <td>5' 9\"</td>\n",
              "      <td>8</td>\n",
              "      <td>42.0</td>\n",
              "    </tr>\n",
              "    <tr>\n",
              "      <th>192540</th>\n",
              "      <td>fit</td>\n",
              "      <td>32c</td>\n",
              "      <td>682043</td>\n",
              "      <td>100lbs</td>\n",
              "      <td>10.0</td>\n",
              "      <td>work</td>\n",
              "      <td>petite</td>\n",
              "      <td>dress</td>\n",
              "      <td>5' 1\"</td>\n",
              "      <td>4</td>\n",
              "      <td>29.0</td>\n",
              "    </tr>\n",
              "    <tr>\n",
              "      <th>192541</th>\n",
              "      <td>fit</td>\n",
              "      <td>36a</td>\n",
              "      <td>683251</td>\n",
              "      <td>135lbs</td>\n",
              "      <td>6.0</td>\n",
              "      <td>everyday</td>\n",
              "      <td>straight &amp; narrow</td>\n",
              "      <td>dress</td>\n",
              "      <td>5' 8\"</td>\n",
              "      <td>8</td>\n",
              "      <td>31.0</td>\n",
              "    </tr>\n",
              "    <tr>\n",
              "      <th>192542</th>\n",
              "      <td>fit</td>\n",
              "      <td>36c</td>\n",
              "      <td>126335</td>\n",
              "      <td>165lbs</td>\n",
              "      <td>10.0</td>\n",
              "      <td>wedding</td>\n",
              "      <td>pear</td>\n",
              "      <td>dress</td>\n",
              "      <td>5' 6\"</td>\n",
              "      <td>16</td>\n",
              "      <td>31.0</td>\n",
              "    </tr>\n",
              "    <tr>\n",
              "      <th>192543</th>\n",
              "      <td>fit</td>\n",
              "      <td>36b</td>\n",
              "      <td>127865</td>\n",
              "      <td>155lbs</td>\n",
              "      <td>10.0</td>\n",
              "      <td>wedding</td>\n",
              "      <td>athletic</td>\n",
              "      <td>gown</td>\n",
              "      <td>5' 6\"</td>\n",
              "      <td>16</td>\n",
              "      <td>30.0</td>\n",
              "    </tr>\n",
              "  </tbody>\n",
              "</table>\n",
              "<p>192544 rows × 11 columns</p>\n",
              "</div>"
            ],
            "text/plain": [
              "        fit bust_size  item_id  weight  ...  category height size    age\n",
              "0       fit       34d  2260466  137lbs  ...    romper  5' 8\"   14   28.0\n",
              "1       fit       34b   153475  132lbs  ...      gown  5' 6\"   12   36.0\n",
              "2       fit       NaN  1063761     NaN  ...    sheath  5' 4\"    4  116.0\n",
              "3       fit       34c   126335  135lbs  ...     dress  5' 5\"    8   34.0\n",
              "4       fit       34b   616682  145lbs  ...      gown  5' 9\"   12   27.0\n",
              "...     ...       ...      ...     ...  ...       ...    ...  ...    ...\n",
              "192539  fit      34dd  2252812  140lbs  ...  jumpsuit  5' 9\"    8   42.0\n",
              "192540  fit       32c   682043  100lbs  ...     dress  5' 1\"    4   29.0\n",
              "192541  fit       36a   683251  135lbs  ...     dress  5' 8\"    8   31.0\n",
              "192542  fit       36c   126335  165lbs  ...     dress  5' 6\"   16   31.0\n",
              "192543  fit       36b   127865  155lbs  ...      gown  5' 6\"   16   30.0\n",
              "\n",
              "[192544 rows x 11 columns]"
            ]
          },
          "metadata": {
            "tags": []
          },
          "execution_count": 9
        }
      ]
    },
    {
      "cell_type": "markdown",
      "metadata": {
        "id": "BlvX-5n4Vyu_"
      },
      "source": [
        "### A necessidade de verificar se precisará juntar dois ou mais conjunto de dados e como será feito\n",
        "\n",
        "*Não é necessário, pois todos os dados necessários para análise, estão em um só lugar. Surgindo curiosidade sobre o assunto, procurar pelo pandas.merge(), que resolverá esse tipo de situação.*"
      ]
    },
    {
      "cell_type": "markdown",
      "metadata": {
        "id": "sQm4BmbublAP"
      },
      "source": [
        "### Verificar se os dados tem missing values (NaN), e estratégia a ser adotada para lidar com eles\n",
        "\n",
        "*Para lidar com missing values, pode excluir as linhas identificadas e preencher estes espaços vazios com algum valor (geralmente média, mediana, moda, 0...) e também criar uma coluna para sinalizar quando eles ocorrem.* \n",
        "\n",
        "*Identificou muitos dados e poucos missing values, e não há como saber ainda quais colunas são relevantes para medir a satisfação, e a maioria dos modelos e análises são prejudicadas pela presença de campos em branco. Então haverá exclusão de todas as linhas que tem missing values.*\n",
        "*Missing values podem ser informativos representando a ausência de uma característica. As respostas observadas são: sim, não e Nan. O NaN pode ajudar a inferir em uma determinada informação, e removê-la significa eliminar informações incompatívveis.*"
      ]
    },
    {
      "cell_type": "code",
      "metadata": {
        "id": "wC8dth2gVyvB",
        "colab": {
          "base_uri": "https://localhost:8080/"
        },
        "outputId": "b001d6c5-e6b4-48c0-ca7f-2752dd23efeb"
      },
      "source": [
        "# VERIFICAÇÃO DOS DADOS QUE POSSUEM MISSING VALUES\n",
        "\n",
        "missing_data_por_coluna = assessment.isnull().sum() / assessment.shape[0]\n",
        "round(missing_data_por_coluna*100,2).sort_values(ascending=False)"
      ],
      "execution_count": 11,
      "outputs": [
        {
          "output_type": "execute_result",
          "data": {
            "text/plain": [
              "weight        15.57\n",
              "bust_size      9.56\n",
              "body_type      7.60\n",
              "age            0.50\n",
              "height         0.35\n",
              "rating         0.04\n",
              "rented_for     0.01\n",
              "size           0.00\n",
              "category       0.00\n",
              "item_id        0.00\n",
              "fit            0.00\n",
              "dtype: float64"
            ]
          },
          "metadata": {
            "tags": []
          },
          "execution_count": 11
        }
      ]
    },
    {
      "cell_type": "code",
      "metadata": {
        "id": "EVCj5t0rVyvC",
        "colab": {
          "base_uri": "https://localhost:8080/"
        },
        "outputId": "fa6625af-70c0-4082-b633-0d52264ef162"
      },
      "source": [
        "# LIDANDO COM MISSING VALUES\n",
        "\n",
        "n_linhas_antes = assessment.shape[0]\n",
        "assessment.dropna(inplace=True)\n",
        "n_linhas_depois = assessment.shape[0]\n",
        "\n",
        "print('Linhas antes de remover missing values:', n_linhas_antes,'\\n','Linhas depois de remover missing values:', n_linhas_depois)"
      ],
      "execution_count": 12,
      "outputs": [
        {
          "output_type": "stream",
          "text": [
            "Linhas antes de remover missing values: 192544 \n",
            " Linhas depois de remover missing values: 146381\n"
          ],
          "name": "stdout"
        }
      ]
    },
    {
      "cell_type": "markdown",
      "metadata": {
        "id": "TpBM-AAPhugA"
      },
      "source": [
        "***Foram perdidas 46.163 linhas no processo, cerca de 24% dos dados. No caso da coluna 'weight', se não não mostrar a sua importância na análise, há como voltar aqui neste local e remove-la.***"
      ]
    },
    {
      "cell_type": "markdown",
      "metadata": {
        "id": "1Q8aAs0eVyvC"
      },
      "source": [
        "### Colunas a serem tratadas antes de serem analisadas, e os seus tipos de tratamento\n",
        "\n",
        "* Análisar se cada tipo de coluna está com o tipo certo, e então haverá a remoção das duplicatas (dados repetidos). Ainda poderá restar textos e outros caracteres interferindo nos dados.\n",
        "\n",
        "* Acoluna fit, item_id, rented for, body type e category tem que ser uma ou do tipo categoria ou do tipo texto (string); a bust size, weight, rating, height, size e age tem que ser numéricas.*\n",
        "\n",
        "*O item_id não pode ser numérico porque esse número representa um produto e não uma quantia. Somar o produto 1234 e o 4321 não faz sentido! Geralmente os dados se encaixam em um deste tipos:*\n",
        "\n",
        "*- Contínuos: números quebrados (R$ 3.71)*\n",
        "*- Discretos: números redondos (4 un.)*\n",
        "*-Ordinais: Representam uma ordem (1º, 2º, 3º)*\n",
        "*-Nominais: São categorias não ordenáveis (Maculino, Feminino)*\n"
      ]
    },
    {
      "cell_type": "code",
      "metadata": {
        "id": "j7fotgqZVyvC",
        "colab": {
          "base_uri": "https://localhost:8080/"
        },
        "outputId": "eec4d625-671f-4c63-b061-7d7b1bd06a02"
      },
      "source": [
        "# REMOÇÃO DE CARACTERES INDESEJADOS DE SUAS COLUNAS\n",
        "\n",
        "assessment.columns"
      ],
      "execution_count": 13,
      "outputs": [
        {
          "output_type": "execute_result",
          "data": {
            "text/plain": [
              "Index(['fit', 'bust_size', 'item_id', 'weight', 'rating', 'rented_for',\n",
              "       'body_type', 'category', 'height', 'size', 'age'],\n",
              "      dtype='object')"
            ]
          },
          "metadata": {
            "tags": []
          },
          "execution_count": 13
        }
      ]
    },
    {
      "cell_type": "code",
      "metadata": {
        "id": "tZs5nT9Tq8rQ",
        "colab": {
          "base_uri": "https://localhost:8080/",
          "height": 203
        },
        "outputId": "3d54043e-bd6c-4b6f-b60a-88a223fedd74"
      },
      "source": [
        "# REMOÇÃO DE CARACTERES INDESEJADOS DE SUAS COLUNAS\n",
        "\n",
        "# Remove o lbs depois do número em weight\n",
        "\n",
        "assessment['weight'] = assessment['weight'].str.replace('lbs', '')\n",
        "\n",
        "# Substitui o ' por . em height\n",
        "\n",
        "assessment['height'] = assessment['height'].str.replace(\"'\", '.')\n",
        "\n",
        "# Remove o \" em height\n",
        "\n",
        "assessment['height'] = assessment['height'].str.replace('\"', '')\n",
        "\n",
        "# Remove espaços em branco em height\n",
        "\n",
        "assessment['height'] = assessment['height'].str.replace(' ', '')\n",
        "\n",
        "# Remove as letras na coluna bust size\n",
        "\n",
        "assessment['bust_size'] = assessment['bust_size'].str.replace('[^0-9]','') # Essa linha usa REGEX ou expressões regulares\n",
        "assessment.head(5)"
      ],
      "execution_count": 14,
      "outputs": [
        {
          "output_type": "execute_result",
          "data": {
            "text/html": [
              "<div>\n",
              "<style scoped>\n",
              "    .dataframe tbody tr th:only-of-type {\n",
              "        vertical-align: middle;\n",
              "    }\n",
              "\n",
              "    .dataframe tbody tr th {\n",
              "        vertical-align: top;\n",
              "    }\n",
              "\n",
              "    .dataframe thead th {\n",
              "        text-align: right;\n",
              "    }\n",
              "</style>\n",
              "<table border=\"1\" class=\"dataframe\">\n",
              "  <thead>\n",
              "    <tr style=\"text-align: right;\">\n",
              "      <th></th>\n",
              "      <th>fit</th>\n",
              "      <th>bust_size</th>\n",
              "      <th>item_id</th>\n",
              "      <th>weight</th>\n",
              "      <th>rating</th>\n",
              "      <th>rented_for</th>\n",
              "      <th>body_type</th>\n",
              "      <th>category</th>\n",
              "      <th>height</th>\n",
              "      <th>size</th>\n",
              "      <th>age</th>\n",
              "    </tr>\n",
              "  </thead>\n",
              "  <tbody>\n",
              "    <tr>\n",
              "      <th>0</th>\n",
              "      <td>fit</td>\n",
              "      <td>34</td>\n",
              "      <td>2260466</td>\n",
              "      <td>137</td>\n",
              "      <td>10.0</td>\n",
              "      <td>vacation</td>\n",
              "      <td>hourglass</td>\n",
              "      <td>romper</td>\n",
              "      <td>5.8</td>\n",
              "      <td>14</td>\n",
              "      <td>28.0</td>\n",
              "    </tr>\n",
              "    <tr>\n",
              "      <th>1</th>\n",
              "      <td>fit</td>\n",
              "      <td>34</td>\n",
              "      <td>153475</td>\n",
              "      <td>132</td>\n",
              "      <td>10.0</td>\n",
              "      <td>other</td>\n",
              "      <td>straight &amp; narrow</td>\n",
              "      <td>gown</td>\n",
              "      <td>5.6</td>\n",
              "      <td>12</td>\n",
              "      <td>36.0</td>\n",
              "    </tr>\n",
              "    <tr>\n",
              "      <th>3</th>\n",
              "      <td>fit</td>\n",
              "      <td>34</td>\n",
              "      <td>126335</td>\n",
              "      <td>135</td>\n",
              "      <td>8.0</td>\n",
              "      <td>formal affair</td>\n",
              "      <td>pear</td>\n",
              "      <td>dress</td>\n",
              "      <td>5.5</td>\n",
              "      <td>8</td>\n",
              "      <td>34.0</td>\n",
              "    </tr>\n",
              "    <tr>\n",
              "      <th>4</th>\n",
              "      <td>fit</td>\n",
              "      <td>34</td>\n",
              "      <td>616682</td>\n",
              "      <td>145</td>\n",
              "      <td>10.0</td>\n",
              "      <td>wedding</td>\n",
              "      <td>athletic</td>\n",
              "      <td>gown</td>\n",
              "      <td>5.9</td>\n",
              "      <td>12</td>\n",
              "      <td>27.0</td>\n",
              "    </tr>\n",
              "    <tr>\n",
              "      <th>5</th>\n",
              "      <td>fit</td>\n",
              "      <td>32</td>\n",
              "      <td>364092</td>\n",
              "      <td>138</td>\n",
              "      <td>8.0</td>\n",
              "      <td>date</td>\n",
              "      <td>athletic</td>\n",
              "      <td>dress</td>\n",
              "      <td>5.8</td>\n",
              "      <td>8</td>\n",
              "      <td>45.0</td>\n",
              "    </tr>\n",
              "  </tbody>\n",
              "</table>\n",
              "</div>"
            ],
            "text/plain": [
              "   fit bust_size  item_id weight  ...  category height size   age\n",
              "0  fit        34  2260466    137  ...    romper    5.8   14  28.0\n",
              "1  fit        34   153475    132  ...      gown    5.6   12  36.0\n",
              "3  fit        34   126335    135  ...     dress    5.5    8  34.0\n",
              "4  fit        34   616682    145  ...      gown    5.9   12  27.0\n",
              "5  fit        32   364092    138  ...     dress    5.8    8  45.0\n",
              "\n",
              "[5 rows x 11 columns]"
            ]
          },
          "metadata": {
            "tags": []
          },
          "execution_count": 14
        }
      ]
    },
    {
      "cell_type": "markdown",
      "metadata": {
        "id": "7LN9_od4VyvC"
      },
      "source": [
        "***As letras presentes na coluna bust_size representam variações de tamanho no busto, por exemplo: 34a < 34b, jogando fora essa informação , podendo ser considerado errado. Mas para medir a satisfação do cliente, não precisará de muitos detalhes, como o tamanho do busto dele; ter uma noção mais geral sobre a situação.***"
      ]
    },
    {
      "cell_type": "code",
      "metadata": {
        "id": "4ShbXoqZVyvD",
        "colab": {
          "base_uri": "https://localhost:8080/"
        },
        "outputId": "2f73fd88-a9dd-4924-de11-9a4c507d7241"
      },
      "source": [
        "# REMOÇÃO DE DADOS DUPLICADOS\n",
        "\n",
        "numero_linhas_antes = assessment.shape[0]\n",
        "\n",
        "# Remove duplicatas\n",
        "\n",
        "assessment.drop_duplicates(inplace=True)\n",
        "\n",
        "numero_linhas_depois = assessment.shape[0]\n",
        "\n",
        "print(\"Número de linhas antes de remover duplicatas:\", numero_linhas_antes, '\\n',\n",
        "      \"Número de linhas depois de remover duplicatas:\", numero_linhas_depois)"
      ],
      "execution_count": 15,
      "outputs": [
        {
          "output_type": "stream",
          "text": [
            "Número de linhas antes de remover duplicatas: 146381 \n",
            " Número de linhas depois de remover duplicatas: 146169\n"
          ],
          "name": "stdout"
        }
      ]
    },
    {
      "cell_type": "code",
      "metadata": {
        "id": "AI728uk0VyvD",
        "colab": {
          "base_uri": "https://localhost:8080/"
        },
        "outputId": "d3872e23-1c2d-4386-cf07-a86d1f347bb6"
      },
      "source": [
        "# CHECANDO OS TIPOS DE DADOS\n",
        "\n",
        "assessment.dtypes"
      ],
      "execution_count": 16,
      "outputs": [
        {
          "output_type": "execute_result",
          "data": {
            "text/plain": [
              "fit            object\n",
              "bust_size      object\n",
              "item_id         int64\n",
              "weight         object\n",
              "rating        float64\n",
              "rented_for     object\n",
              "body_type      object\n",
              "category       object\n",
              "height         object\n",
              "size            int64\n",
              "age           float64\n",
              "dtype: object"
            ]
          },
          "metadata": {
            "tags": []
          },
          "execution_count": 16
        }
      ]
    },
    {
      "cell_type": "code",
      "metadata": {
        "id": "5dH3vCl7VyvD",
        "colab": {
          "base_uri": "https://localhost:8080/"
        },
        "outputId": "013b1882-bea1-40df-9e0a-f01d27ad4bd6"
      },
      "source": [
        "# MUDANDO O TIPO DAS COLUNAS DOS SEUS DADOS AQUI (datetime, floats, integers, strings , etc...)\n",
        "\n",
        "# Essa função tenta fazer automaticamente a mudança do tipo dos dados para o melhor tipo\n",
        "\n",
        "assessment = assessment.convert_dtypes()\n",
        "print(assessment.dtypes)"
      ],
      "execution_count": 17,
      "outputs": [
        {
          "output_type": "stream",
          "text": [
            "fit           string\n",
            "bust_size     string\n",
            "item_id        Int64\n",
            "weight        string\n",
            "rating         Int64\n",
            "rented_for    string\n",
            "body_type     string\n",
            "category      string\n",
            "height        string\n",
            "size           Int64\n",
            "age            Int64\n",
            "dtype: object\n"
          ],
          "name": "stdout"
        }
      ]
    },
    {
      "cell_type": "markdown",
      "metadata": {
        "id": "Ug3HiWMy_I86"
      },
      "source": [
        "*** A função foi útil mas não o suficiente.***"
      ]
    },
    {
      "cell_type": "code",
      "metadata": {
        "id": "Oh2ePNi5VyvD",
        "colab": {
          "base_uri": "https://localhost:8080/"
        },
        "outputId": "7b7378f5-0640-48d8-8137-2645224f9427"
      },
      "source": [
        "# CORREÇÕES MANUAIS\n",
        "\n",
        "assessment = assessment.astype({'bust_size': int,\n",
        "                'item_id': str,\n",
        "                'height': float,\n",
        "                'weight': int\n",
        "                })\n",
        "\n",
        "assessment.dtypes"
      ],
      "execution_count": 18,
      "outputs": [
        {
          "output_type": "execute_result",
          "data": {
            "text/plain": [
              "fit            string\n",
              "bust_size       int64\n",
              "item_id        object\n",
              "weight          int64\n",
              "rating          Int64\n",
              "rented_for     string\n",
              "body_type      string\n",
              "category       string\n",
              "height        float64\n",
              "size            Int64\n",
              "age             Int64\n",
              "dtype: object"
            ]
          },
          "metadata": {
            "tags": []
          },
          "execution_count": 18
        }
      ]
    },
    {
      "cell_type": "markdown",
      "metadata": {
        "id": "hMX3UHZHtsdi"
      },
      "source": [
        "***Há diversos tipos de dados que são extremamente úteis: category (especialmente para categoria ordinais) e datetime (para data e/ou hora).***"
      ]
    },
    {
      "cell_type": "markdown",
      "metadata": {
        "id": "9dzwbTgUVyvM"
      },
      "source": [
        "### IV - Análise exploratória"
      ]
    },
    {
      "cell_type": "markdown",
      "metadata": {
        "id": "pFiy_-TTvjjK"
      },
      "source": [
        "### O percurso da exploração dos dados\n",
        "\n",
        "*1) Análise exploratória, permitindo compreender os dados e suas relações.*\n",
        "*2) Modelagem.*\n",
        "*Etapas a seguir:*\n",
        "*a) Analisar as repetidas vezes da ocorrencia de cada um dos valores das colunas, permitindo encontrar anomalias e trazendo entendimento sobre as características dos dados analisados.*\n",
        "*b) Correlacionar as variáveis com a satisfação dos clientes, resultando em uma prévia das variáveis que podem ser mais adequadas para que possa responder as perguntas advindas do  problema a ser solucionado, ajudando a interpretar os resultados.*"
      ]
    },
    {
      "cell_type": "markdown",
      "metadata": {
        "id": "39YVE04bF2r1"
      },
      "source": [
        "### Estudando a distribuição individual das variáveis"
      ]
    },
    {
      "cell_type": "code",
      "metadata": {
        "id": "PoxeZJCmVyvM",
        "colab": {
          "base_uri": "https://localhost:8080/",
          "height": 388
        },
        "outputId": "045527ce-869b-4859-8ac6-07c616b437a7"
      },
      "source": [
        "# FUNÇÃO DOS PANDAS QUE AJUDA A EXPLORAR OS DADOS\n",
        "\n",
        "assessment.describe(include='all')"
      ],
      "execution_count": 19,
      "outputs": [
        {
          "output_type": "execute_result",
          "data": {
            "text/html": [
              "<div>\n",
              "<style scoped>\n",
              "    .dataframe tbody tr th:only-of-type {\n",
              "        vertical-align: middle;\n",
              "    }\n",
              "\n",
              "    .dataframe tbody tr th {\n",
              "        vertical-align: top;\n",
              "    }\n",
              "\n",
              "    .dataframe thead th {\n",
              "        text-align: right;\n",
              "    }\n",
              "</style>\n",
              "<table border=\"1\" class=\"dataframe\">\n",
              "  <thead>\n",
              "    <tr style=\"text-align: right;\">\n",
              "      <th></th>\n",
              "      <th>fit</th>\n",
              "      <th>bust_size</th>\n",
              "      <th>item_id</th>\n",
              "      <th>weight</th>\n",
              "      <th>rating</th>\n",
              "      <th>rented_for</th>\n",
              "      <th>body_type</th>\n",
              "      <th>category</th>\n",
              "      <th>height</th>\n",
              "      <th>size</th>\n",
              "      <th>age</th>\n",
              "    </tr>\n",
              "  </thead>\n",
              "  <tbody>\n",
              "    <tr>\n",
              "      <th>count</th>\n",
              "      <td>146169</td>\n",
              "      <td>146169.000000</td>\n",
              "      <td>146169</td>\n",
              "      <td>146169.000000</td>\n",
              "      <td>146169.000000</td>\n",
              "      <td>146169</td>\n",
              "      <td>146169</td>\n",
              "      <td>146169</td>\n",
              "      <td>146169.000000</td>\n",
              "      <td>146169.000000</td>\n",
              "      <td>146169.000000</td>\n",
              "    </tr>\n",
              "    <tr>\n",
              "      <th>unique</th>\n",
              "      <td>3</td>\n",
              "      <td>NaN</td>\n",
              "      <td>5736</td>\n",
              "      <td>NaN</td>\n",
              "      <td>NaN</td>\n",
              "      <td>9</td>\n",
              "      <td>7</td>\n",
              "      <td>68</td>\n",
              "      <td>NaN</td>\n",
              "      <td>NaN</td>\n",
              "      <td>NaN</td>\n",
              "    </tr>\n",
              "    <tr>\n",
              "      <th>top</th>\n",
              "      <td>fit</td>\n",
              "      <td>NaN</td>\n",
              "      <td>126335</td>\n",
              "      <td>NaN</td>\n",
              "      <td>NaN</td>\n",
              "      <td>wedding</td>\n",
              "      <td>hourglass</td>\n",
              "      <td>dress</td>\n",
              "      <td>NaN</td>\n",
              "      <td>NaN</td>\n",
              "      <td>NaN</td>\n",
              "    </tr>\n",
              "    <tr>\n",
              "      <th>freq</th>\n",
              "      <td>107558</td>\n",
              "      <td>NaN</td>\n",
              "      <td>1524</td>\n",
              "      <td>NaN</td>\n",
              "      <td>NaN</td>\n",
              "      <td>42561</td>\n",
              "      <td>43917</td>\n",
              "      <td>70330</td>\n",
              "      <td>NaN</td>\n",
              "      <td>NaN</td>\n",
              "      <td>NaN</td>\n",
              "    </tr>\n",
              "    <tr>\n",
              "      <th>mean</th>\n",
              "      <td>NaN</td>\n",
              "      <td>34.110790</td>\n",
              "      <td>NaN</td>\n",
              "      <td>137.213746</td>\n",
              "      <td>9.081597</td>\n",
              "      <td>NaN</td>\n",
              "      <td>NaN</td>\n",
              "      <td>NaN</td>\n",
              "      <td>5.471759</td>\n",
              "      <td>11.439683</td>\n",
              "      <td>34.089677</td>\n",
              "    </tr>\n",
              "    <tr>\n",
              "      <th>std</th>\n",
              "      <td>NaN</td>\n",
              "      <td>1.702269</td>\n",
              "      <td>NaN</td>\n",
              "      <td>21.543732</td>\n",
              "      <td>1.438055</td>\n",
              "      <td>NaN</td>\n",
              "      <td>NaN</td>\n",
              "      <td>NaN</td>\n",
              "      <td>0.267344</td>\n",
              "      <td>7.828208</td>\n",
              "      <td>8.114146</td>\n",
              "    </tr>\n",
              "    <tr>\n",
              "      <th>min</th>\n",
              "      <td>NaN</td>\n",
              "      <td>28.000000</td>\n",
              "      <td>NaN</td>\n",
              "      <td>50.000000</td>\n",
              "      <td>2.000000</td>\n",
              "      <td>NaN</td>\n",
              "      <td>NaN</td>\n",
              "      <td>NaN</td>\n",
              "      <td>4.100000</td>\n",
              "      <td>0.000000</td>\n",
              "      <td>0.000000</td>\n",
              "    </tr>\n",
              "    <tr>\n",
              "      <th>25%</th>\n",
              "      <td>NaN</td>\n",
              "      <td>32.000000</td>\n",
              "      <td>NaN</td>\n",
              "      <td>123.000000</td>\n",
              "      <td>8.000000</td>\n",
              "      <td>NaN</td>\n",
              "      <td>NaN</td>\n",
              "      <td>NaN</td>\n",
              "      <td>5.300000</td>\n",
              "      <td>4.000000</td>\n",
              "      <td>29.000000</td>\n",
              "    </tr>\n",
              "    <tr>\n",
              "      <th>50%</th>\n",
              "      <td>NaN</td>\n",
              "      <td>34.000000</td>\n",
              "      <td>NaN</td>\n",
              "      <td>135.000000</td>\n",
              "      <td>10.000000</td>\n",
              "      <td>NaN</td>\n",
              "      <td>NaN</td>\n",
              "      <td>NaN</td>\n",
              "      <td>5.500000</td>\n",
              "      <td>9.000000</td>\n",
              "      <td>32.000000</td>\n",
              "    </tr>\n",
              "    <tr>\n",
              "      <th>75%</th>\n",
              "      <td>NaN</td>\n",
              "      <td>36.000000</td>\n",
              "      <td>NaN</td>\n",
              "      <td>148.000000</td>\n",
              "      <td>10.000000</td>\n",
              "      <td>NaN</td>\n",
              "      <td>NaN</td>\n",
              "      <td>NaN</td>\n",
              "      <td>5.700000</td>\n",
              "      <td>16.000000</td>\n",
              "      <td>37.000000</td>\n",
              "    </tr>\n",
              "    <tr>\n",
              "      <th>max</th>\n",
              "      <td>NaN</td>\n",
              "      <td>48.000000</td>\n",
              "      <td>NaN</td>\n",
              "      <td>300.000000</td>\n",
              "      <td>10.000000</td>\n",
              "      <td>NaN</td>\n",
              "      <td>NaN</td>\n",
              "      <td>NaN</td>\n",
              "      <td>6.600000</td>\n",
              "      <td>58.000000</td>\n",
              "      <td>117.000000</td>\n",
              "    </tr>\n",
              "  </tbody>\n",
              "</table>\n",
              "</div>"
            ],
            "text/plain": [
              "           fit      bust_size  ...           size            age\n",
              "count   146169  146169.000000  ...  146169.000000  146169.000000\n",
              "unique       3            NaN  ...            NaN            NaN\n",
              "top        fit            NaN  ...            NaN            NaN\n",
              "freq    107558            NaN  ...            NaN            NaN\n",
              "mean       NaN      34.110790  ...      11.439683      34.089677\n",
              "std        NaN       1.702269  ...       7.828208       8.114146\n",
              "min        NaN      28.000000  ...       0.000000       0.000000\n",
              "25%        NaN      32.000000  ...       4.000000      29.000000\n",
              "50%        NaN      34.000000  ...       9.000000      32.000000\n",
              "75%        NaN      36.000000  ...      16.000000      37.000000\n",
              "max        NaN      48.000000  ...      58.000000     117.000000\n",
              "\n",
              "[11 rows x 11 columns]"
            ]
          },
          "metadata": {
            "tags": []
          },
          "execution_count": 19
        }
      ]
    },
    {
      "cell_type": "code",
      "metadata": {
        "id": "64l6s-29VyvM",
        "colab": {
          "base_uri": "https://localhost:8080/",
          "height": 250
        },
        "outputId": "ba8ee149-df20-4554-f8af-d7329c256fd1"
      },
      "source": [
        "# Na tabela 'weights' == 50 lbs. 50 lbs é cerca de 22 kg, supondo serem crianças\n",
        "\n",
        "print('Pessoas com menos de cerca de 30 kg:', assessment[assessment.weight < 70].shape[0])\n",
        "assessment[assessment.weight < 70]"
      ],
      "execution_count": 20,
      "outputs": [
        {
          "output_type": "stream",
          "text": [
            "Pessoas com menos de cerca de 30 kg: 6\n"
          ],
          "name": "stdout"
        },
        {
          "output_type": "execute_result",
          "data": {
            "text/html": [
              "<div>\n",
              "<style scoped>\n",
              "    .dataframe tbody tr th:only-of-type {\n",
              "        vertical-align: middle;\n",
              "    }\n",
              "\n",
              "    .dataframe tbody tr th {\n",
              "        vertical-align: top;\n",
              "    }\n",
              "\n",
              "    .dataframe thead th {\n",
              "        text-align: right;\n",
              "    }\n",
              "</style>\n",
              "<table border=\"1\" class=\"dataframe\">\n",
              "  <thead>\n",
              "    <tr style=\"text-align: right;\">\n",
              "      <th></th>\n",
              "      <th>fit</th>\n",
              "      <th>bust_size</th>\n",
              "      <th>item_id</th>\n",
              "      <th>weight</th>\n",
              "      <th>rating</th>\n",
              "      <th>rented_for</th>\n",
              "      <th>body_type</th>\n",
              "      <th>category</th>\n",
              "      <th>height</th>\n",
              "      <th>size</th>\n",
              "      <th>age</th>\n",
              "    </tr>\n",
              "  </thead>\n",
              "  <tbody>\n",
              "    <tr>\n",
              "      <th>16191</th>\n",
              "      <td>fit</td>\n",
              "      <td>38</td>\n",
              "      <td>195406</td>\n",
              "      <td>50</td>\n",
              "      <td>8</td>\n",
              "      <td>wedding</td>\n",
              "      <td>pear</td>\n",
              "      <td>gown</td>\n",
              "      <td>5.0</td>\n",
              "      <td>45</td>\n",
              "      <td>46</td>\n",
              "    </tr>\n",
              "    <tr>\n",
              "      <th>31457</th>\n",
              "      <td>fit</td>\n",
              "      <td>34</td>\n",
              "      <td>180843</td>\n",
              "      <td>50</td>\n",
              "      <td>10</td>\n",
              "      <td>party</td>\n",
              "      <td>athletic</td>\n",
              "      <td>dress</td>\n",
              "      <td>5.6</td>\n",
              "      <td>12</td>\n",
              "      <td>29</td>\n",
              "    </tr>\n",
              "    <tr>\n",
              "      <th>94849</th>\n",
              "      <td>small</td>\n",
              "      <td>34</td>\n",
              "      <td>195613</td>\n",
              "      <td>50</td>\n",
              "      <td>10</td>\n",
              "      <td>party</td>\n",
              "      <td>athletic</td>\n",
              "      <td>mini</td>\n",
              "      <td>5.6</td>\n",
              "      <td>16</td>\n",
              "      <td>29</td>\n",
              "    </tr>\n",
              "    <tr>\n",
              "      <th>112440</th>\n",
              "      <td>fit</td>\n",
              "      <td>38</td>\n",
              "      <td>127865</td>\n",
              "      <td>58</td>\n",
              "      <td>10</td>\n",
              "      <td>formal affair</td>\n",
              "      <td>hourglass</td>\n",
              "      <td>gown</td>\n",
              "      <td>5.8</td>\n",
              "      <td>21</td>\n",
              "      <td>44</td>\n",
              "    </tr>\n",
              "    <tr>\n",
              "      <th>138128</th>\n",
              "      <td>fit</td>\n",
              "      <td>34</td>\n",
              "      <td>2590191</td>\n",
              "      <td>50</td>\n",
              "      <td>10</td>\n",
              "      <td>party</td>\n",
              "      <td>athletic</td>\n",
              "      <td>jumpsuit</td>\n",
              "      <td>5.6</td>\n",
              "      <td>12</td>\n",
              "      <td>29</td>\n",
              "    </tr>\n",
              "    <tr>\n",
              "      <th>153152</th>\n",
              "      <td>fit</td>\n",
              "      <td>34</td>\n",
              "      <td>187984</td>\n",
              "      <td>50</td>\n",
              "      <td>8</td>\n",
              "      <td>party</td>\n",
              "      <td>athletic</td>\n",
              "      <td>dress</td>\n",
              "      <td>5.6</td>\n",
              "      <td>16</td>\n",
              "      <td>29</td>\n",
              "    </tr>\n",
              "  </tbody>\n",
              "</table>\n",
              "</div>"
            ],
            "text/plain": [
              "          fit  bust_size  item_id  weight  ...  category height size age\n",
              "16191     fit         38   195406      50  ...      gown    5.0   45  46\n",
              "31457     fit         34   180843      50  ...     dress    5.6   12  29\n",
              "94849   small         34   195613      50  ...      mini    5.6   16  29\n",
              "112440    fit         38   127865      58  ...      gown    5.8   21  44\n",
              "138128    fit         34  2590191      50  ...  jumpsuit    5.6   12  29\n",
              "153152    fit         34   187984      50  ...     dress    5.6   16  29\n",
              "\n",
              "[6 rows x 11 columns]"
            ]
          },
          "metadata": {
            "tags": []
          },
          "execution_count": 20
        }
      ]
    },
    {
      "cell_type": "code",
      "metadata": {
        "id": "9Ry5W-Z5E-bi",
        "colab": {
          "base_uri": "https://localhost:8080/",
          "height": 441
        },
        "outputId": "84d7bf04-d01c-48f6-8a13-8fd477e610c1"
      },
      "source": [
        "# Há pessoas com menos de 18 anos alugando roupas. Supondo serem crianças ou algum erro de digitação\n",
        "\n",
        "print('Pessoas com menos de 18 anos:', assessment[assessment.age < 18].shape[0])\n",
        "print('Pessoas com menos de 10 anos:', assessment[assessment.age < 10].shape[0])\n",
        "print('Pessoas com menos de 5 anos:', assessment[assessment.age < 5].shape[0])\n",
        "print('Pessoas com menos de 1 ano:', assessment[assessment.age < 1].shape[0])\n",
        "print('Pessoas com mais de de 100 anos:', assessment[assessment.age > 100].shape[0])\n",
        "assessment[assessment.age < 1].head(10)"
      ],
      "execution_count": 21,
      "outputs": [
        {
          "output_type": "stream",
          "text": [
            "Pessoas com menos de 18 anos: 196\n",
            "Pessoas com menos de 10 anos: 41\n",
            "Pessoas com menos de 5 anos: 40\n",
            "Pessoas com menos de 1 ano: 21\n",
            "Pessoas com mais de de 100 anos: 43\n"
          ],
          "name": "stdout"
        },
        {
          "output_type": "execute_result",
          "data": {
            "text/html": [
              "<div>\n",
              "<style scoped>\n",
              "    .dataframe tbody tr th:only-of-type {\n",
              "        vertical-align: middle;\n",
              "    }\n",
              "\n",
              "    .dataframe tbody tr th {\n",
              "        vertical-align: top;\n",
              "    }\n",
              "\n",
              "    .dataframe thead th {\n",
              "        text-align: right;\n",
              "    }\n",
              "</style>\n",
              "<table border=\"1\" class=\"dataframe\">\n",
              "  <thead>\n",
              "    <tr style=\"text-align: right;\">\n",
              "      <th></th>\n",
              "      <th>fit</th>\n",
              "      <th>bust_size</th>\n",
              "      <th>item_id</th>\n",
              "      <th>weight</th>\n",
              "      <th>rating</th>\n",
              "      <th>rented_for</th>\n",
              "      <th>body_type</th>\n",
              "      <th>category</th>\n",
              "      <th>height</th>\n",
              "      <th>size</th>\n",
              "      <th>age</th>\n",
              "    </tr>\n",
              "  </thead>\n",
              "  <tbody>\n",
              "    <tr>\n",
              "      <th>2029</th>\n",
              "      <td>fit</td>\n",
              "      <td>34</td>\n",
              "      <td>1746190</td>\n",
              "      <td>125</td>\n",
              "      <td>10</td>\n",
              "      <td>other</td>\n",
              "      <td>straight &amp; narrow</td>\n",
              "      <td>dress</td>\n",
              "      <td>5.7</td>\n",
              "      <td>4</td>\n",
              "      <td>0</td>\n",
              "    </tr>\n",
              "    <tr>\n",
              "      <th>11515</th>\n",
              "      <td>fit</td>\n",
              "      <td>34</td>\n",
              "      <td>1451390</td>\n",
              "      <td>125</td>\n",
              "      <td>10</td>\n",
              "      <td>wedding</td>\n",
              "      <td>straight &amp; narrow</td>\n",
              "      <td>maxi</td>\n",
              "      <td>5.7</td>\n",
              "      <td>4</td>\n",
              "      <td>0</td>\n",
              "    </tr>\n",
              "    <tr>\n",
              "      <th>14814</th>\n",
              "      <td>fit</td>\n",
              "      <td>36</td>\n",
              "      <td>1110676</td>\n",
              "      <td>125</td>\n",
              "      <td>8</td>\n",
              "      <td>party</td>\n",
              "      <td>petite</td>\n",
              "      <td>maxi</td>\n",
              "      <td>5.5</td>\n",
              "      <td>7</td>\n",
              "      <td>0</td>\n",
              "    </tr>\n",
              "    <tr>\n",
              "      <th>15112</th>\n",
              "      <td>fit</td>\n",
              "      <td>34</td>\n",
              "      <td>1009409</td>\n",
              "      <td>130</td>\n",
              "      <td>10</td>\n",
              "      <td>wedding</td>\n",
              "      <td>hourglass</td>\n",
              "      <td>dress</td>\n",
              "      <td>5.8</td>\n",
              "      <td>14</td>\n",
              "      <td>0</td>\n",
              "    </tr>\n",
              "    <tr>\n",
              "      <th>27691</th>\n",
              "      <td>large</td>\n",
              "      <td>34</td>\n",
              "      <td>2297075</td>\n",
              "      <td>130</td>\n",
              "      <td>10</td>\n",
              "      <td>everyday</td>\n",
              "      <td>hourglass</td>\n",
              "      <td>coat</td>\n",
              "      <td>5.8</td>\n",
              "      <td>8</td>\n",
              "      <td>0</td>\n",
              "    </tr>\n",
              "    <tr>\n",
              "      <th>35725</th>\n",
              "      <td>fit</td>\n",
              "      <td>34</td>\n",
              "      <td>163328</td>\n",
              "      <td>125</td>\n",
              "      <td>10</td>\n",
              "      <td>formal affair</td>\n",
              "      <td>straight &amp; narrow</td>\n",
              "      <td>gown</td>\n",
              "      <td>5.7</td>\n",
              "      <td>5</td>\n",
              "      <td>0</td>\n",
              "    </tr>\n",
              "    <tr>\n",
              "      <th>38203</th>\n",
              "      <td>fit</td>\n",
              "      <td>34</td>\n",
              "      <td>632507</td>\n",
              "      <td>170</td>\n",
              "      <td>10</td>\n",
              "      <td>wedding</td>\n",
              "      <td>athletic</td>\n",
              "      <td>sheath</td>\n",
              "      <td>5.1</td>\n",
              "      <td>20</td>\n",
              "      <td>0</td>\n",
              "    </tr>\n",
              "    <tr>\n",
              "      <th>46224</th>\n",
              "      <td>fit</td>\n",
              "      <td>34</td>\n",
              "      <td>2797877</td>\n",
              "      <td>130</td>\n",
              "      <td>8</td>\n",
              "      <td>date</td>\n",
              "      <td>hourglass</td>\n",
              "      <td>top</td>\n",
              "      <td>5.8</td>\n",
              "      <td>8</td>\n",
              "      <td>0</td>\n",
              "    </tr>\n",
              "    <tr>\n",
              "      <th>55943</th>\n",
              "      <td>fit</td>\n",
              "      <td>34</td>\n",
              "      <td>1371685</td>\n",
              "      <td>130</td>\n",
              "      <td>10</td>\n",
              "      <td>formal affair</td>\n",
              "      <td>hourglass</td>\n",
              "      <td>dress</td>\n",
              "      <td>5.8</td>\n",
              "      <td>12</td>\n",
              "      <td>0</td>\n",
              "    </tr>\n",
              "    <tr>\n",
              "      <th>56796</th>\n",
              "      <td>fit</td>\n",
              "      <td>36</td>\n",
              "      <td>2215805</td>\n",
              "      <td>155</td>\n",
              "      <td>8</td>\n",
              "      <td>wedding</td>\n",
              "      <td>hourglass</td>\n",
              "      <td>jumpsuit</td>\n",
              "      <td>5.3</td>\n",
              "      <td>20</td>\n",
              "      <td>0</td>\n",
              "    </tr>\n",
              "  </tbody>\n",
              "</table>\n",
              "</div>"
            ],
            "text/plain": [
              "         fit  bust_size  item_id  weight  ...  category height size age\n",
              "2029     fit         34  1746190     125  ...     dress    5.7    4   0\n",
              "11515    fit         34  1451390     125  ...      maxi    5.7    4   0\n",
              "14814    fit         36  1110676     125  ...      maxi    5.5    7   0\n",
              "15112    fit         34  1009409     130  ...     dress    5.8   14   0\n",
              "27691  large         34  2297075     130  ...      coat    5.8    8   0\n",
              "35725    fit         34   163328     125  ...      gown    5.7    5   0\n",
              "38203    fit         34   632507     170  ...    sheath    5.1   20   0\n",
              "46224    fit         34  2797877     130  ...       top    5.8    8   0\n",
              "55943    fit         34  1371685     130  ...     dress    5.8   12   0\n",
              "56796    fit         36  2215805     155  ...  jumpsuit    5.3   20   0\n",
              "\n",
              "[10 rows x 11 columns]"
            ]
          },
          "metadata": {
            "tags": []
          },
          "execution_count": 21
        }
      ]
    },
    {
      "cell_type": "code",
      "metadata": {
        "id": "ifrpjOBg06_a",
        "colab": {
          "base_uri": "https://localhost:8080/",
          "height": 386
        },
        "outputId": "e6f5629b-3adf-48ae-d3e7-591a489d32ef"
      },
      "source": [
        "# Histograma da variável 'rating'\n",
        "\n",
        "assessment_ratings = round((assessment.rating.value_counts()/assessment.shape[0])*100,2)\n",
        "print(assessment_ratings)\n",
        "assessment_ratings.plot.bar()\n"
      ],
      "execution_count": 22,
      "outputs": [
        {
          "output_type": "stream",
          "text": [
            "10    64.40\n",
            "8     27.86\n",
            "6      5.70\n",
            "4      1.51\n",
            "2      0.54\n",
            "Name: rating, dtype: float64\n"
          ],
          "name": "stdout"
        },
        {
          "output_type": "execute_result",
          "data": {
            "text/plain": [
              "<matplotlib.axes._subplots.AxesSubplot at 0x7f580b23fa50>"
            ]
          },
          "metadata": {
            "tags": []
          },
          "execution_count": 22
        },
        {
          "output_type": "display_data",
          "data": {
            "image/png": "[encoded data removed]",
            "text/plain": [
              "<Figure size 432x288 with 1 Axes>"
            ]
          },
          "metadata": {
            "tags": [],
            "needs_background": "light"
          }
        }
      ]
    },
    {
      "cell_type": "markdown",
      "metadata": {
        "id": "OZkqXCE11KoV"
      },
      "source": [
        "***O foco é minimizar a insatisfação dos clientes do site. Clientes que deram notas abaixo de 7 no feedback de compra , são somente 7.75% na questão de insatisfação. Este é o limite do quanto a experiência de aluguel de roupas será aperfeiçoada através da união de dados que ajudará a mostrar o que foi descoberto para o cliente - a loja, conversar e entender se ele estava ciente, e de que formas esta taxa se converte em um problema para ele.***"
      ]
    },
    {
      "cell_type": "code",
      "metadata": {
        "id": "VNNuiJsQ5eln",
        "colab": {
          "base_uri": "https://localhost:8080/",
          "height": 282
        },
        "outputId": "bb0913ce-8bd1-40e5-d939-76961e8314e2"
      },
      "source": [
        "# Histograma da variável bust_size\n",
        "\n",
        "assessment['bust_size'].plot.hist()"
      ],
      "execution_count": 23,
      "outputs": [
        {
          "output_type": "execute_result",
          "data": {
            "text/plain": [
              "<matplotlib.axes._subplots.AxesSubplot at 0x7f580b24df50>"
            ]
          },
          "metadata": {
            "tags": []
          },
          "execution_count": 23
        },
        {
          "output_type": "display_data",
          "data": {
            "image/png": "[encoded data removed]",
            "text/plain": [
              "<Figure size 432x288 with 1 Axes>"
            ]
          },
          "metadata": {
            "tags": [],
            "needs_background": "light"
          }
        }
      ]
    },
    {
      "cell_type": "code",
      "metadata": {
        "id": "RgB_EP7sL3Nn",
        "colab": {
          "base_uri": "https://localhost:8080/",
          "height": 282
        },
        "outputId": "c60b3945-73da-49bf-ff97-58b44d8920d1"
      },
      "source": [
        "# Histograma da variável weight\n",
        "\n",
        "assessment['weight'].plot.hist()"
      ],
      "execution_count": 24,
      "outputs": [
        {
          "output_type": "execute_result",
          "data": {
            "text/plain": [
              "<matplotlib.axes._subplots.AxesSubplot at 0x7f580b1e9550>"
            ]
          },
          "metadata": {
            "tags": []
          },
          "execution_count": 24
        },
        {
          "output_type": "display_data",
          "data": {
            "image/png": "[encoded data removed]",
            "text/plain": [
              "<Figure size 432x288 with 1 Axes>"
            ]
          },
          "metadata": {
            "tags": [],
            "needs_background": "light"
          }
        }
      ]
    },
    {
      "cell_type": "code",
      "metadata": {
        "id": "u0G9wer6L_TQ",
        "colab": {
          "base_uri": "https://localhost:8080/",
          "height": 282
        },
        "outputId": "dd3b000c-95b2-4549-84ef-f2b96a0ea0a0"
      },
      "source": [
        "# Histograma da variável height\n",
        "\n",
        "assessment['height'].plot.hist()"
      ],
      "execution_count": 25,
      "outputs": [
        {
          "output_type": "execute_result",
          "data": {
            "text/plain": [
              "<matplotlib.axes._subplots.AxesSubplot at 0x7f580b214f10>"
            ]
          },
          "metadata": {
            "tags": []
          },
          "execution_count": 25
        },
        {
          "output_type": "display_data",
          "data": {
            "image/png": "[encoded data removed]",
            "text/plain": [
              "<Figure size 432x288 with 1 Axes>"
            ]
          },
          "metadata": {
            "tags": [],
            "needs_background": "light"
          }
        }
      ]
    },
    {
      "cell_type": "code",
      "metadata": {
        "id": "Qi4ROPcuMFcS",
        "colab": {
          "base_uri": "https://localhost:8080/",
          "height": 282
        },
        "outputId": "b06cd1ee-486a-4252-8300-050638ec790f"
      },
      "source": [
        "# Histograma da variável size\n",
        "\n",
        "assessment['size'].plot.hist()"
      ],
      "execution_count": 26,
      "outputs": [
        {
          "output_type": "execute_result",
          "data": {
            "text/plain": [
              "<matplotlib.axes._subplots.AxesSubplot at 0x7f580b1ae510>"
            ]
          },
          "metadata": {
            "tags": []
          },
          "execution_count": 26
        },
        {
          "output_type": "display_data",
          "data": {
            "image/png": "[encoded data removed]",
            "text/plain": [
              "<Figure size 432x288 with 1 Axes>"
            ]
          },
          "metadata": {
            "tags": [],
            "needs_background": "light"
          }
        }
      ]
    },
    {
      "cell_type": "code",
      "metadata": {
        "id": "IpIXF1guMK8i",
        "colab": {
          "base_uri": "https://localhost:8080/",
          "height": 282
        },
        "outputId": "8035ba03-3ad6-4ee7-9e62-378ca9ea7efc"
      },
      "source": [
        "# Histograma da variável age\n",
        "\n",
        "assessment['age'].plot.hist()"
      ],
      "execution_count": 27,
      "outputs": [
        {
          "output_type": "execute_result",
          "data": {
            "text/plain": [
              "<matplotlib.axes._subplots.AxesSubplot at 0x7f580b207ed0>"
            ]
          },
          "metadata": {
            "tags": []
          },
          "execution_count": 27
        },
        {
          "output_type": "display_data",
          "data": {
            "image/png": "[encoded data removed]",
            "text/plain": [
              "<Figure size 432x288 with 1 Axes>"
            ]
          },
          "metadata": {
            "tags": [],
            "needs_background": "light"
          }
        }
      ]
    },
    {
      "cell_type": "code",
      "metadata": {
        "id": "hZDXc4s5MSGj",
        "colab": {
          "base_uri": "https://localhost:8080/",
          "height": 299
        },
        "outputId": "d4c40e9b-8665-4386-83c9-c5a8eb12abbd"
      },
      "source": [
        "# Gráfico de barras da variável fit\n",
        "\n",
        "assessment['fit'].value_counts().sort_values().plot.bar()"
      ],
      "execution_count": 28,
      "outputs": [
        {
          "output_type": "execute_result",
          "data": {
            "text/plain": [
              "<matplotlib.axes._subplots.AxesSubplot at 0x7f580b163a90>"
            ]
          },
          "metadata": {
            "tags": []
          },
          "execution_count": 28
        },
        {
          "output_type": "display_data",
          "data": {
            "image/png": "[encoded data removed]",
            "text/plain": [
              "<Figure size 432x288 with 1 Axes>"
            ]
          },
          "metadata": {
            "tags": [],
            "needs_background": "light"
          }
        }
      ]
    },
    {
      "cell_type": "code",
      "metadata": {
        "id": "OjSBg5QJMZAj",
        "colab": {
          "base_uri": "https://localhost:8080/",
          "height": 343
        },
        "outputId": "c7164efb-23fa-4ac0-dc5c-c9aa7fb89740"
      },
      "source": [
        "# Gráfico de barras da variável rented_for\n",
        "\n",
        "assessment['rented_for'].value_counts().sort_values().plot.bar()"
      ],
      "execution_count": 29,
      "outputs": [
        {
          "output_type": "execute_result",
          "data": {
            "text/plain": [
              "<matplotlib.axes._subplots.AxesSubplot at 0x7f580b17c910>"
            ]
          },
          "metadata": {
            "tags": []
          },
          "execution_count": 29
        },
        {
          "output_type": "display_data",
          "data": {
            "image/png": "[encoded data removed]",
            "text/plain": [
              "<Figure size 432x288 with 1 Axes>"
            ]
          },
          "metadata": {
            "tags": [],
            "needs_background": "light"
          }
        }
      ]
    },
    {
      "cell_type": "code",
      "metadata": {
        "id": "5iyM-bIMMmBd",
        "colab": {
          "base_uri": "https://localhost:8080/",
          "height": 360
        },
        "outputId": "2f19b77f-60d1-414b-a986-e47c163ac736"
      },
      "source": [
        "# Gráfico de barras da variável fit\n",
        "\n",
        "assessment['body_type'].value_counts().sort_values().plot.bar()"
      ],
      "execution_count": 30,
      "outputs": [
        {
          "output_type": "execute_result",
          "data": {
            "text/plain": [
              "<matplotlib.axes._subplots.AxesSubplot at 0x7f580b197b50>"
            ]
          },
          "metadata": {
            "tags": []
          },
          "execution_count": 30
        },
        {
          "output_type": "display_data",
          "data": {
            "image/png": "[encoded data removed]",
            "text/plain": [
              "<Figure size 432x288 with 1 Axes>"
            ]
          },
          "metadata": {
            "tags": [],
            "needs_background": "light"
          }
        }
      ]
    },
    {
      "cell_type": "code",
      "metadata": {
        "id": "X7l_5IZ9M5d7",
        "colab": {
          "base_uri": "https://localhost:8080/",
          "height": 324
        },
        "outputId": "e2992633-261a-45cc-a648-6dcab6a33abb"
      },
      "source": [
        "# Gráfico de barras da variável category\n",
        "\n",
        "assessment['category'].value_counts().sort_values(ascending=False).head(30).plot.bar()"
      ],
      "execution_count": 31,
      "outputs": [
        {
          "output_type": "execute_result",
          "data": {
            "text/plain": [
              "<matplotlib.axes._subplots.AxesSubplot at 0x7f580b1262d0>"
            ]
          },
          "metadata": {
            "tags": []
          },
          "execution_count": 31
        },
        {
          "output_type": "display_data",
          "data": {
            "image/png": "[encoded data removed]",
            "text/plain": [
              "<Figure size 432x288 with 1 Axes>"
            ]
          },
          "metadata": {
            "tags": [],
            "needs_background": "light"
          }
        }
      ]
    },
    {
      "cell_type": "code",
      "metadata": {
        "id": "-HMHNWmJNEKj",
        "colab": {
          "base_uri": "https://localhost:8080/",
          "height": 321
        },
        "outputId": "f0cb0c71-fa76-4694-bc52-6cd7291f234f"
      },
      "source": [
        "# Diversas categorias vêem esta variável desta forma, necessitando pensar em outra\n",
        "\n",
        "assessment['item_id'].value_counts().sort_values(ascending=False).plot.bar()"
      ],
      "execution_count": 32,
      "outputs": [
        {
          "output_type": "execute_result",
          "data": {
            "text/plain": [
              "<matplotlib.axes._subplots.AxesSubplot at 0x7f580b138210>"
            ]
          },
          "metadata": {
            "tags": []
          },
          "execution_count": 32
        },
        {
          "output_type": "display_data",
          "data": {
            "image/png": "[encoded data removed]",
            "text/plain": [
              "<Figure size 432x288 with 1 Axes>"
            ]
          },
          "metadata": {
            "tags": [],
            "needs_background": "light"
          }
        }
      ]
    },
    {
      "cell_type": "code",
      "metadata": {
        "id": "lwwwDzDKNTQQ",
        "colab": {
          "base_uri": "https://localhost:8080/"
        },
        "outputId": "1ef00d89-ecfd-41b7-f916-a05cacf587e7"
      },
      "source": [
        "# Número de produtos únicos\n",
        "\n",
        "len(assessment.item_id.unique())"
      ],
      "execution_count": 33,
      "outputs": [
        {
          "output_type": "execute_result",
          "data": {
            "text/plain": [
              "5736"
            ]
          },
          "metadata": {
            "tags": []
          },
          "execution_count": 33
        }
      ]
    },
    {
      "cell_type": "code",
      "metadata": {
        "id": "UR-rOoyNNkaN",
        "colab": {
          "base_uri": "https://localhost:8080/",
          "height": 313
        },
        "outputId": "84d5515b-7d70-4b1f-d661-d0cc6c750f11"
      },
      "source": [
        "# Quantidade de vezes cada produto foi alugado e então essa informação  é guardada em assessment_contagem_produtos\n",
        "\n",
        "assessment_contagem_produtos = pd.DataFrame(assessment.item_id.value_counts())\n",
        "\n",
        "# Quantos porcentos os produtos foram usados 1, 2, 3 vezes.....então multiplicando por 100 e arredonda\n",
        "\n",
        "assessment_contagem_produtos = round((assessment_contagem_produtos.value_counts() / len(assessment.item_id.unique()))*100,2)\n",
        "\n",
        "# Plotando a porcentagem de vezes que um produto foi usado 1, 2, 3 vezes...\n",
        "\n",
        "assessment_contagem_produtos.head(30).plot.bar()"
      ],
      "execution_count": 34,
      "outputs": [
        {
          "output_type": "execute_result",
          "data": {
            "text/plain": [
              "<matplotlib.axes._subplots.AxesSubplot at 0x7f580ab3fa90>"
            ]
          },
          "metadata": {
            "tags": []
          },
          "execution_count": 34
        },
        {
          "output_type": "display_data",
          "data": {
            "image/png": "[encoded data removed]",
            "text/plain": [
              "<Figure size 432x288 with 1 Axes>"
            ]
          },
          "metadata": {
            "tags": [],
            "needs_background": "light"
          }
        }
      ]
    },
    {
      "cell_type": "markdown",
      "metadata": {
        "id": "0RpE4IBpOd-x"
      },
      "source": [
        "***O 'itens_id' foram observados para ver se os produtos tendem a ser mais novos ou mais velhos, pois alugar uma roupa muito usada, traz um impacto negativo na satisfação.***"
      ]
    },
    {
      "cell_type": "markdown",
      "metadata": {
        "id": "A05WxXhdGuWN"
      },
      "source": [
        "### Relação entre as variáveis e a satisfação"
      ]
    },
    {
      "cell_type": "code",
      "metadata": {
        "id": "UGH6ky9RR9kB",
        "colab": {
          "base_uri": "https://localhost:8080/",
          "height": 316
        },
        "outputId": "2ae9c50f-e4b7-4890-f97a-f9ec7d670d51"
      },
      "source": [
        "# EXPLORAÇÃO DOS DADOS\n",
        "\n",
        "assessment.groupby(['fit']).rating.mean().sort_values().plot.bar()"
      ],
      "execution_count": 35,
      "outputs": [
        {
          "output_type": "execute_result",
          "data": {
            "text/plain": [
              "<matplotlib.axes._subplots.AxesSubplot at 0x7f580aa67790>"
            ]
          },
          "metadata": {
            "tags": []
          },
          "execution_count": 35
        },
        {
          "output_type": "display_data",
          "data": {
            "image/png": "[encoded data removed]",
            "text/plain": [
              "<Figure size 432x288 with 1 Axes>"
            ]
          },
          "metadata": {
            "tags": [],
            "needs_background": "light"
          }
        }
      ]
    },
    {
      "cell_type": "code",
      "metadata": {
        "id": "Am65ldmWSEh6",
        "colab": {
          "base_uri": "https://localhost:8080/",
          "height": 302
        },
        "outputId": "0252194b-9ce0-43b6-d8cf-978301c26903"
      },
      "source": [
        "# EXPLORAÇÃO DOS DADOS\n",
        "\n",
        "assessment.groupby(['bust_size']).rating.mean().plot.bar()"
      ],
      "execution_count": 36,
      "outputs": [
        {
          "output_type": "execute_result",
          "data": {
            "text/plain": [
              "<matplotlib.axes._subplots.AxesSubplot at 0x7f5809c95e10>"
            ]
          },
          "metadata": {
            "tags": []
          },
          "execution_count": 36
        },
        {
          "output_type": "display_data",
          "data": {
            "image/png": "[encoded data removed]",
            "text/plain": [
              "<Figure size 432x288 with 1 Axes>"
            ]
          },
          "metadata": {
            "tags": [],
            "needs_background": "light"
          }
        }
      ]
    },
    {
      "cell_type": "code",
      "metadata": {
        "id": "0ZTcs8sESPRG",
        "colab": {
          "base_uri": "https://localhost:8080/",
          "height": 334
        },
        "outputId": "201edf5c-de56-4804-d346-1329826ce3f3"
      },
      "source": [
        "# EXPLORAÇÃO DOS DADOS\n",
        "\n",
        "assessment.groupby(['item_id']).rating.mean().sort_values(ascending=False).head(10).plot.bar()"
      ],
      "execution_count": 37,
      "outputs": [
        {
          "output_type": "execute_result",
          "data": {
            "text/plain": [
              "<matplotlib.axes._subplots.AxesSubplot at 0x7f580a086ed0>"
            ]
          },
          "metadata": {
            "tags": []
          },
          "execution_count": 37
        },
        {
          "output_type": "display_data",
          "data": {
            "image/png": "[encoded data removed]",
            "text/plain": [
              "<Figure size 432x288 with 1 Axes>"
            ]
          },
          "metadata": {
            "tags": [],
            "needs_background": "light"
          }
        }
      ]
    },
    {
      "cell_type": "code",
      "metadata": {
        "id": "sClvu13YSPYj",
        "colab": {
          "base_uri": "https://localhost:8080/",
          "height": 334
        },
        "outputId": "ff000ebe-b933-4c9d-c134-20cbf4f1a1e5"
      },
      "source": [
        "# EXPLORAÇÃO DOS DADOS\n",
        "\n",
        "assessment.groupby(['item_id']).rating.mean().sort_values(ascending=False).tail(10).plot.bar()"
      ],
      "execution_count": 38,
      "outputs": [
        {
          "output_type": "execute_result",
          "data": {
            "text/plain": [
              "<matplotlib.axes._subplots.AxesSubplot at 0x7f580aa903d0>"
            ]
          },
          "metadata": {
            "tags": []
          },
          "execution_count": 38
        },
        {
          "output_type": "display_data",
          "data": {
            "image/png": "[encoded data removed]",
            "text/plain": [
              "<Figure size 432x288 with 1 Axes>"
            ]
          },
          "metadata": {
            "tags": [],
            "needs_background": "light"
          }
        }
      ]
    },
    {
      "cell_type": "code",
      "metadata": {
        "id": "ZG2ReUK9StBO"
      },
      "source": [
        "# Quantidade de usos tem cada produto \n",
        "\n",
        "serie_itens_contagem = assessment.item_id.value_counts()\n",
        "\n",
        "# Média de 'rating' destes produtos\n",
        "\n",
        "serie_itens_media = assessment.groupby(['item_id']).rating.mean()"
      ],
      "execution_count": 39,
      "outputs": []
    },
    {
      "cell_type": "code",
      "metadata": {
        "id": "BK53O1c7TAmF",
        "colab": {
          "base_uri": "https://localhost:8080/",
          "height": 110
        },
        "outputId": "37938318-b725-4a02-9455-918f7600245f"
      },
      "source": [
        "# Os dois são transformados em dataframes\n",
        "\n",
        "assessment_itens_contagem = pd.DataFrame(serie_itens_contagem)\n",
        "assessment_itens_media = pd.DataFrame(serie_itens_media)\n",
        "\n",
        "# União dos dois dataframes pelo index\n",
        "\n",
        "assessment_uso_vs_ratings = assessment_itens_contagem.merge(assessment_itens_media, left_index=True,right_index=True)\n",
        "\n",
        "# Renomeando as colunas\n",
        "\n",
        "assessment_uso_vs_ratings.columns = ['usos','rating_medio']\n",
        "\n",
        "# Exibição da correlação dos dois\n",
        "\n",
        "assessment_uso_vs_ratings.corr()"
      ],
      "execution_count": 40,
      "outputs": [
        {
          "output_type": "execute_result",
          "data": {
            "text/html": [
              "<div>\n",
              "<style scoped>\n",
              "    .dataframe tbody tr th:only-of-type {\n",
              "        vertical-align: middle;\n",
              "    }\n",
              "\n",
              "    .dataframe tbody tr th {\n",
              "        vertical-align: top;\n",
              "    }\n",
              "\n",
              "    .dataframe thead th {\n",
              "        text-align: right;\n",
              "    }\n",
              "</style>\n",
              "<table border=\"1\" class=\"dataframe\">\n",
              "  <thead>\n",
              "    <tr style=\"text-align: right;\">\n",
              "      <th></th>\n",
              "      <th>usos</th>\n",
              "      <th>rating_medio</th>\n",
              "    </tr>\n",
              "  </thead>\n",
              "  <tbody>\n",
              "    <tr>\n",
              "      <th>usos</th>\n",
              "      <td>1.000000</td>\n",
              "      <td>0.046124</td>\n",
              "    </tr>\n",
              "    <tr>\n",
              "      <th>rating_medio</th>\n",
              "      <td>0.046124</td>\n",
              "      <td>1.000000</td>\n",
              "    </tr>\n",
              "  </tbody>\n",
              "</table>\n",
              "</div>"
            ],
            "text/plain": [
              "                  usos  rating_medio\n",
              "usos          1.000000      0.046124\n",
              "rating_medio  0.046124      1.000000"
            ]
          },
          "metadata": {
            "tags": []
          },
          "execution_count": 40
        }
      ]
    },
    {
      "cell_type": "markdown",
      "metadata": {
        "id": "r0MeCpbpTkAB"
      },
      "source": [
        "***Correlação fraca.***"
      ]
    },
    {
      "cell_type": "code",
      "metadata": {
        "id": "-rLkTyNZTmsL",
        "colab": {
          "base_uri": "https://localhost:8080/",
          "height": 360
        },
        "outputId": "19760194-98fc-44e2-a102-8d1ecd32a7a8"
      },
      "source": [
        "# EXPLORAÇÃO DOS DADOS\n",
        "\n",
        "assessment.groupby(['rented_for']).rating.mean().sort_values(ascending=False).head(30).plot.bar()"
      ],
      "execution_count": 41,
      "outputs": [
        {
          "output_type": "execute_result",
          "data": {
            "text/plain": [
              "<matplotlib.axes._subplots.AxesSubplot at 0x7f580a002590>"
            ]
          },
          "metadata": {
            "tags": []
          },
          "execution_count": 41
        },
        {
          "output_type": "display_data",
          "data": {
            "image/png": "[encoded data removed]",
            "text/plain": [
              "<Figure size 432x288 with 1 Axes>"
            ]
          },
          "metadata": {
            "tags": [],
            "needs_background": "light"
          }
        }
      ]
    },
    {
      "cell_type": "code",
      "metadata": {
        "id": "qV7xVjjPT0IU",
        "colab": {
          "base_uri": "https://localhost:8080/",
          "height": 377
        },
        "outputId": "9783bf71-1652-4c72-aa82-128697d18060"
      },
      "source": [
        "# EXPLORAÇÃO DOS DADOS\n",
        "\n",
        "assessment.groupby(['body_type']).rating.mean().sort_values(ascending=False).head(10).plot.bar()"
      ],
      "execution_count": 42,
      "outputs": [
        {
          "output_type": "execute_result",
          "data": {
            "text/plain": [
              "<matplotlib.axes._subplots.AxesSubplot at 0x7f580a02f990>"
            ]
          },
          "metadata": {
            "tags": []
          },
          "execution_count": 42
        },
        {
          "output_type": "display_data",
          "data": {
            "image/png": "[encoded data removed]",
            "text/plain": [
              "<Figure size 432x288 with 1 Axes>"
            ]
          },
          "metadata": {
            "tags": [],
            "needs_background": "light"
          }
        }
      ]
    },
    {
      "cell_type": "code",
      "metadata": {
        "id": "xkDtiwa6T54p",
        "colab": {
          "base_uri": "https://localhost:8080/",
          "height": 347
        },
        "outputId": "8cb66c4c-9e94-4dcc-e057-7e4047773b94"
      },
      "source": [
        "# EXPLORAÇÃO DOS DADOS\n",
        "\n",
        "assessment.groupby(['category']).rating.mean().sort_values(ascending=False).head(10).plot.bar()"
      ],
      "execution_count": 43,
      "outputs": [
        {
          "output_type": "execute_result",
          "data": {
            "text/plain": [
              "<matplotlib.axes._subplots.AxesSubplot at 0x7f580a0319d0>"
            ]
          },
          "metadata": {
            "tags": []
          },
          "execution_count": 43
        },
        {
          "output_type": "display_data",
          "data": {
            "image/png": "[encoded data removed]",
            "text/plain": [
              "<Figure size 432x288 with 1 Axes>"
            ]
          },
          "metadata": {
            "tags": [],
            "needs_background": "light"
          }
        }
      ]
    },
    {
      "cell_type": "code",
      "metadata": {
        "id": "IdZNxQGnT_UZ",
        "colab": {
          "base_uri": "https://localhost:8080/",
          "height": 349
        },
        "outputId": "f5f221a6-3b25-40fd-8ead-3d852c657787"
      },
      "source": [
        "# EXPLORAÇÃO DOS DADOS\n",
        "\n",
        "assessment.groupby(['category']).rating.mean().sort_values(ascending=False).tail(10).plot.bar()"
      ],
      "execution_count": 44,
      "outputs": [
        {
          "output_type": "execute_result",
          "data": {
            "text/plain": [
              "<matplotlib.axes._subplots.AxesSubplot at 0x7f5809ff3850>"
            ]
          },
          "metadata": {
            "tags": []
          },
          "execution_count": 44
        },
        {
          "output_type": "display_data",
          "data": {
            "image/png": "[encoded data removed]",
            "text/plain": [
              "<Figure size 432x288 with 1 Axes>"
            ]
          },
          "metadata": {
            "tags": [],
            "needs_background": "light"
          }
        }
      ]
    },
    {
      "cell_type": "code",
      "metadata": {
        "id": "NJF552SFUDjN",
        "colab": {
          "base_uri": "https://localhost:8080/",
          "height": 312
        },
        "outputId": "dcd4734e-497b-4305-c110-2ad0759958c0"
      },
      "source": [
        "# EXPLORAÇÃO DOS DADOS\n",
        "\n",
        "assessment.groupby(['height']).rating.mean().plot.bar()"
      ],
      "execution_count": 45,
      "outputs": [
        {
          "output_type": "execute_result",
          "data": {
            "text/plain": [
              "<matplotlib.axes._subplots.AxesSubplot at 0x7f5809bdec50>"
            ]
          },
          "metadata": {
            "tags": []
          },
          "execution_count": 45
        },
        {
          "output_type": "display_data",
          "data": {
            "image/png": "[encoded data removed]",
            "text/plain": [
              "<Figure size 432x288 with 1 Axes>"
            ]
          },
          "metadata": {
            "tags": [],
            "needs_background": "light"
          }
        }
      ]
    },
    {
      "cell_type": "code",
      "metadata": {
        "id": "CF-IK5KiUKwo",
        "colab": {
          "base_uri": "https://localhost:8080/",
          "height": 234
        },
        "outputId": "5e363bbe-123b-49ed-96d9-a469db49ab9f"
      },
      "source": [
        "# Cálculo da correlação entre as variáveis numéricas\n",
        "\n",
        "round((assessment.corr())*100,2)"
      ],
      "execution_count": 46,
      "outputs": [
        {
          "output_type": "execute_result",
          "data": {
            "text/html": [
              "<div>\n",
              "<style scoped>\n",
              "    .dataframe tbody tr th:only-of-type {\n",
              "        vertical-align: middle;\n",
              "    }\n",
              "\n",
              "    .dataframe tbody tr th {\n",
              "        vertical-align: top;\n",
              "    }\n",
              "\n",
              "    .dataframe thead th {\n",
              "        text-align: right;\n",
              "    }\n",
              "</style>\n",
              "<table border=\"1\" class=\"dataframe\">\n",
              "  <thead>\n",
              "    <tr style=\"text-align: right;\">\n",
              "      <th></th>\n",
              "      <th>bust_size</th>\n",
              "      <th>weight</th>\n",
              "      <th>rating</th>\n",
              "      <th>height</th>\n",
              "      <th>size</th>\n",
              "      <th>age</th>\n",
              "    </tr>\n",
              "  </thead>\n",
              "  <tbody>\n",
              "    <tr>\n",
              "      <th>bust_size</th>\n",
              "      <td>100.00</td>\n",
              "      <td>64.16</td>\n",
              "      <td>-2.05</td>\n",
              "      <td>10.51</td>\n",
              "      <td>64.49</td>\n",
              "      <td>18.57</td>\n",
              "    </tr>\n",
              "    <tr>\n",
              "      <th>weight</th>\n",
              "      <td>64.16</td>\n",
              "      <td>100.00</td>\n",
              "      <td>-2.30</td>\n",
              "      <td>25.65</td>\n",
              "      <td>84.52</td>\n",
              "      <td>6.15</td>\n",
              "    </tr>\n",
              "    <tr>\n",
              "      <th>rating</th>\n",
              "      <td>-2.05</td>\n",
              "      <td>-2.30</td>\n",
              "      <td>100.00</td>\n",
              "      <td>1.43</td>\n",
              "      <td>-3.71</td>\n",
              "      <td>-3.03</td>\n",
              "    </tr>\n",
              "    <tr>\n",
              "      <th>height</th>\n",
              "      <td>10.51</td>\n",
              "      <td>25.65</td>\n",
              "      <td>1.43</td>\n",
              "      <td>100.00</td>\n",
              "      <td>15.24</td>\n",
              "      <td>0.44</td>\n",
              "    </tr>\n",
              "    <tr>\n",
              "      <th>size</th>\n",
              "      <td>64.49</td>\n",
              "      <td>84.52</td>\n",
              "      <td>-3.71</td>\n",
              "      <td>15.24</td>\n",
              "      <td>100.00</td>\n",
              "      <td>16.87</td>\n",
              "    </tr>\n",
              "    <tr>\n",
              "      <th>age</th>\n",
              "      <td>18.57</td>\n",
              "      <td>6.15</td>\n",
              "      <td>-3.03</td>\n",
              "      <td>0.44</td>\n",
              "      <td>16.87</td>\n",
              "      <td>100.00</td>\n",
              "    </tr>\n",
              "  </tbody>\n",
              "</table>\n",
              "</div>"
            ],
            "text/plain": [
              "           bust_size  weight  rating  height    size     age\n",
              "bust_size     100.00   64.16   -2.05   10.51   64.49   18.57\n",
              "weight         64.16  100.00   -2.30   25.65   84.52    6.15\n",
              "rating         -2.05   -2.30  100.00    1.43   -3.71   -3.03\n",
              "height         10.51   25.65    1.43  100.00   15.24    0.44\n",
              "size           64.49   84.52   -3.71   15.24  100.00   16.87\n",
              "age            18.57    6.15   -3.03    0.44   16.87  100.00"
            ]
          },
          "metadata": {
            "tags": []
          },
          "execution_count": 46
        }
      ]
    },
    {
      "cell_type": "markdown",
      "metadata": {
        "id": "hn1Vyc2dUmKH"
      },
      "source": [
        "### Identificação de dados que contém outliers e a estratégia adotada para lidar com eles\n",
        "\n",
        "*Outliers podem interferir na forma de ver os dados, atrapalhando algumas modelagens e visualizações, e vai  depender do problema existente, para que se possa ser resolvido e descobrir a sua causa. Podem ser excluídos para que não interfira no Modelo.*"
      ]
    },
    {
      "cell_type": "markdown",
      "metadata": {
        "id": "_S9uR3AxXq3A"
      },
      "source": [
        "### Visualização dos dados que contêm ou não outliers.\n",
        "\n",
        "*Completo na exploração de dados.*"
      ]
    },
    {
      "cell_type": "markdown",
      "metadata": {
        "id": "XNzjVNBmX7gM"
      },
      "source": [
        "### V - Modelagem"
      ]
    },
    {
      "cell_type": "markdown",
      "metadata": {
        "id": "K7zgpncWZ3dS"
      },
      "source": [
        "### Estratégia adotada de modelagem\n",
        "\n",
        "*Transformar o problema em solução analisando dados, tratando-os e escolhendo um modelo adequado. Para cada dado diferente, uma abordagem diferente.*\n",
        "\n",
        "*A estrutura do modelo é: ojetivos, características dos dados, viabilidade de implementação e performance. Existindo diversos modelos disponíveis [no link](https://scikit-learn.org/stable/supervised_learning.html), e algoritmos voltados para problemas de aprendizado supervisionado.* \n",
        "\n",
        "*Modelos: algoritmos que possuem uma sequência limitada de ações executáveis, afim de solucionar um problema*\n",
        "\n",
        "*Escolhendo um modelo, testando-o e o tornando definitivo, será destinado a solucionar um problema.\n",
        "\n",
        "*É necessário estabelecer um modelo regressivo que prevê a variável 'rating' e identifique fatores que permitirão compreender quais variáveis impactarão a satisfação do cliente. Os dados estarão em formato numérico, e uma parte deles serão selecionados para testar e garantir a qualidade do modelo final.* "
      ]
    },
    {
      "cell_type": "markdown",
      "metadata": {
        "id": "TJiQ1TObiby_"
      },
      "source": [
        "### Identificação das colunas que precisam ser transformadas antes de serem modeladas e suas transformações\n",
        "\n",
        " *As três técnicas mais famosas são:\n",
        "\n",
        "*1. One hot encoding: Transformação das variáveis categóricas em variáveis do tipo 1 ou 0 (ex: pegar a coluna \"sabor\" que aceita chocolate, morango e baunilha e substituir por três colunas separadas sabor_chocolate, sabor_morango sabor_baunilha, onde 1 significa que é do sabor e 0 que não é do sabor).*\n",
        "\n",
        "*2. Substituição pela média/frequência: O valor da categoria é substituído pelo número de vezes que ela aparece no dataset ou pela média da variável (Ex: se quer entender salários e a média salarial de homens é 1.200 reais e de mulheres 1.000 reais, ao invés de colocar M ou F para denotar homens e mulheres, colocamos a média salarial deles).*\n",
        "\n",
        "*3. Extrair informação: Interpretar ou extraír uma informação necessária de uma categoria ou texto (ex: podemos trocar a data de nascimento de alguém que nasceu em \"15/06/2000\" pela idade dela \"21\" anos).*\n",
        "\n",
        "*Nos dados analisados, as colunas 'fit', 'rented_for', 'body_type', 'category' e 'item_id' serãoconvertidas para números. As três primeiras serão tratadas por one hot encoding, por sua pouca variedade e uma razoável estabilidade. A coluna 'category' possui 68 valores e aplicando o one hot encoding, os dados ficarão muitas colunas e consequentemente para cada categoria nova que lançarem, terá que criar uma nova e treinar de novo o modelo. de forma mais simplificada será usada uma mistura da técnica 3 e 2, extrair uma informação (se são categorias comuns ou raras) e substituir os textos pela média da avaliação para cada uma das categorias (o mesmo será feito para item_id).*"
      ]
    },
    {
      "cell_type": "markdown",
      "metadata": {
        "id": "mmyX1IvKmPEE"
      },
      "source": [
        "### Extração de conteúdos das colunas\n",
        "\n",
        "#### Conversão das colunas para o numérico"
      ]
    },
    {
      "cell_type": "code",
      "metadata": {
        "id": "Z0PN7AfoX6gM"
      },
      "source": [
        "# CONVERSÃO DAS COLUNAS NÃO NUMERICAS PARA VALORES NUMÉRICOS\n",
        "\n",
        "assessment = pd.get_dummies(assessment,columns = ['fit', 'rented_for', 'body_type'])"
      ],
      "execution_count": 47,
      "outputs": []
    },
    {
      "cell_type": "code",
      "metadata": {
        "id": "TI7BeryUm1re",
        "colab": {
          "base_uri": "https://localhost:8080/",
          "height": 324
        },
        "outputId": "44c63083-f0b5-44e6-c291-490c46931b8a"
      },
      "source": [
        "# Gráfico de barras da variável 'category' que possui diversas categorias e poucas relevantes. \n",
        "\n",
        "# Ao criar a categoria 'outros', o modelo fica em condições de lidar com novos valores desconhecidos.\n",
        "\n",
        "assessment['category'].value_counts().sort_values(ascending=False).head(30).plot.bar()"
      ],
      "execution_count": 48,
      "outputs": [
        {
          "output_type": "execute_result",
          "data": {
            "text/plain": [
              "<matplotlib.axes._subplots.AxesSubplot at 0x7f5809be86d0>"
            ]
          },
          "metadata": {
            "tags": []
          },
          "execution_count": 48
        },
        {
          "output_type": "display_data",
          "data": {
            "image/png": "[encoded data removed]",
            "text/plain": [
              "<Figure size 432x288 with 1 Axes>"
            ]
          },
          "metadata": {
            "tags": [],
            "needs_background": "light"
          }
        }
      ]
    },
    {
      "cell_type": "code",
      "metadata": {
        "id": "oFKcBkRwnT-c",
        "colab": {
          "base_uri": "https://localhost:8080/"
        },
        "outputId": "438cbf23-305b-42cf-e548-a8f855b89bb9"
      },
      "source": [
        "# Quantidade de linhas de cada uma das categorias, são categorizadas das que mais aparecem para as que menos aparecem, e soma de forma acumulativa, dividindo pelo número de linhas, resultando em porcentagem\n",
        "\n",
        "serie_category_95 = assessment.category.value_counts().sort_values(ascending=False).cumsum()/assessment.shape[0]\n",
        "\n",
        "# Seleciona as categorias que são menos frequentes, sendo, ao todo menos, de 5% de todos os alugueis\n",
        "\n",
        "serie_category_95 = serie_category_95[serie_category_95 > 0.95]\n",
        "\n",
        "# Separa o nome destas categorias para substituí-las por outros\n",
        "\n",
        "valores_outros = serie_category_95.keys()\n",
        "\n",
        "# Substitui as categorias selecionadas por \"outros\"\n",
        "\n",
        "assessment.loc[assessment['category'].isin(valores_outros), 'category'] = 'outros'\n",
        "\n",
        "# Mostra as categorias que ficaram\n",
        "\n",
        "assessment.category.unique()"
      ],
      "execution_count": 49,
      "outputs": [
        {
          "output_type": "execute_result",
          "data": {
            "text/plain": [
              "<StringArray>\n",
              "[  'romper',     'gown',    'dress',   'sheath',   'outros',   'jacket',\n",
              " 'jumpsuit',    'shift',      'top',     'mini',     'maxi']\n",
              "Length: 11, dtype: string"
            ]
          },
          "metadata": {
            "tags": []
          },
          "execution_count": 49
        }
      ]
    },
    {
      "cell_type": "code",
      "metadata": {
        "id": "MrM8wVDZn_E8"
      },
      "source": [
        "# O próximo passo é substituir os textos  'romper', 'gown', 'dress', dentre outros, pelas médias de avaliações destes grupos.\n",
        "\n",
        "# Criar o dicionário vazio afim de guardar as médias do modelo.\n",
        "\n",
        "dicionario_com_valores_medios = {}\n",
        "\n",
        "# Calcular a média de 'rating' para cada uma das categorias da coluna 'category'\n",
        "\n",
        "medias = assessment.groupby('category').rating.mean()\n",
        "\n",
        "# Guardar os valores dentro do dicionário\n",
        "\n",
        "dicionario_com_valores_medios.update(medias)\n",
        "\n",
        "# Substituir os valores das categorias pela médias calculadas\n",
        "\n",
        "assessment['category'] = assessment['category'].map(medias)"
      ],
      "execution_count": 50,
      "outputs": []
    },
    {
      "cell_type": "code",
      "metadata": {
        "id": "amwdgFHTofI6"
      },
      "source": [
        "# Será feito o mesmo para a coluna 'item_id'\n",
        "\n",
        "# Calcular a média de 'rating' para cada uma das categorias da coluna 'category'\n",
        "\n",
        "medias = assessment.groupby('item_id').rating.mean()\n",
        "\n",
        "# Guardar os valores dentro do dicionário\n",
        "\n",
        "dicionario_com_valores_medios.update(medias)\n",
        "\n",
        "# Substituir os valores das categorias pela médias calculadas\n",
        "\n",
        "assessment['item_id'] = assessment['item_id'].map(medias)"
      ],
      "execution_count": 51,
      "outputs": []
    },
    {
      "cell_type": "markdown",
      "metadata": {
        "id": "gl3XD9oHxzY8"
      },
      "source": [
        "***Ao testar diferentes técnicas, se descobre qual performa é mais adequada em cada situação.***"
      ]
    },
    {
      "cell_type": "markdown",
      "metadata": {
        "id": "HQTUNa42pIRq"
      },
      "source": [
        "### Modelo escolhido para este projeto\n",
        "\n",
        "*Neste projeto é selecionado o [Extreme Gradient Boosting](https://towardsdatascience.com/xgboost-extreme-gradient-boosting-how-to-improve-on-regular-gradient-boosting-5c6acf66c70a), por conta de sua excelente performance, versatilidade e interpretabilidade em dados estruturados. O XGBoost performa em alta qualidade em várias competições de Data Science e em projetos no mercado. Mas ele pode ser substituído caso não traga um resultado adequado ao final do projeto.*"
      ]
    },
    {
      "cell_type": "markdown",
      "metadata": {
        "id": "p_FAkdPvqZ2O"
      },
      "source": [
        "### Garantia que o modelo tenha uma boa performance.\n",
        "\n",
        "*Dependerá da qualidade e disponibilidade de dados. No momento é olhando para os primeiros dois itens desta tríade. É necessário tomar tais cuidados:*\n",
        "\n",
        "*1. Separar uma parte dos dados que o modelo não terá acesso para testar a sua performance de maneira não enviesada (dados de treino e teste).*\n",
        "\n",
        "*2. Selecionar algumas métricas de performance para avaliar o modelo e compreender, visualizando onde atua benéfica ou maléfica.*\n",
        "\n",
        "*3. Trabalhar a otimização dos hiperparâmetros do modelo, melhorando os dados.*"
      ]
    },
    {
      "cell_type": "markdown",
      "metadata": {
        "id": "7DndSpsKrLE_"
      },
      "source": [
        "### Dados divididos em conjuntos de treino e teste."
      ]
    },
    {
      "cell_type": "code",
      "metadata": {
        "id": "8d4dCrL_qRHE"
      },
      "source": [
        "# DIVIDIR OS DADOS EM TREINO E TESTE\n",
        "\n",
        "# Embaralhar as linhas do dataframe\n",
        "\n",
        "assessment = assessment.sample(frac=1).reset_index(drop=True)\n",
        "\n",
        "# Definir 80% dos dados para treino\n",
        "\n",
        "porcentagem_treino = int(assessment.shape[0]*0.8)\n",
        "\n",
        "# Separar 80% das observações para treino\n",
        "\n",
        "train = assessment[0:porcentagem_treino]\n",
        "\n",
        "# Separar o restante para teste\n",
        "\n",
        "test = assessment[porcentagem_treino:assessment.shape[0]]\n",
        "\n",
        "# Separar as variáveis preditoras (x) da variável resposta (y)\n",
        "\n",
        "# Selecionar somente a variável resposta\n",
        "\n",
        "y_train = train['rating'] \n",
        "y_test = test['rating'] \n",
        "\n",
        "# Tirar a variável resposta e selecionar todo o restante\n",
        "\n",
        "x_train = train.drop(['rating'], axis=1)\n",
        "x_test = test.drop(['rating'], axis=1)"
      ],
      "execution_count": 52,
      "outputs": []
    },
    {
      "cell_type": "code",
      "metadata": {
        "id": "K4MT9_C_qRLz",
        "colab": {
          "base_uri": "https://localhost:8080/",
          "height": 178
        },
        "outputId": "5294ab91-a0b2-4e26-d92c-41a00e19143c"
      },
      "source": [
        "# Resultando em\n",
        "\n",
        "x_train.head(3)"
      ],
      "execution_count": 53,
      "outputs": [
        {
          "output_type": "execute_result",
          "data": {
            "text/html": [
              "<div>\n",
              "<style scoped>\n",
              "    .dataframe tbody tr th:only-of-type {\n",
              "        vertical-align: middle;\n",
              "    }\n",
              "\n",
              "    .dataframe tbody tr th {\n",
              "        vertical-align: top;\n",
              "    }\n",
              "\n",
              "    .dataframe thead th {\n",
              "        text-align: right;\n",
              "    }\n",
              "</style>\n",
              "<table border=\"1\" class=\"dataframe\">\n",
              "  <thead>\n",
              "    <tr style=\"text-align: right;\">\n",
              "      <th></th>\n",
              "      <th>bust_size</th>\n",
              "      <th>item_id</th>\n",
              "      <th>weight</th>\n",
              "      <th>category</th>\n",
              "      <th>height</th>\n",
              "      <th>size</th>\n",
              "      <th>age</th>\n",
              "      <th>fit_fit</th>\n",
              "      <th>fit_large</th>\n",
              "      <th>fit_small</th>\n",
              "      <th>rented_for_date</th>\n",
              "      <th>rented_for_everyday</th>\n",
              "      <th>rented_for_formal affair</th>\n",
              "      <th>rented_for_other</th>\n",
              "      <th>rented_for_party</th>\n",
              "      <th>rented_for_party: cocktail</th>\n",
              "      <th>rented_for_vacation</th>\n",
              "      <th>rented_for_wedding</th>\n",
              "      <th>rented_for_work</th>\n",
              "      <th>body_type_apple</th>\n",
              "      <th>body_type_athletic</th>\n",
              "      <th>body_type_full bust</th>\n",
              "      <th>body_type_hourglass</th>\n",
              "      <th>body_type_pear</th>\n",
              "      <th>body_type_petite</th>\n",
              "      <th>body_type_straight &amp; narrow</th>\n",
              "    </tr>\n",
              "  </thead>\n",
              "  <tbody>\n",
              "    <tr>\n",
              "      <th>0</th>\n",
              "      <td>36</td>\n",
              "      <td>9.603175</td>\n",
              "      <td>145</td>\n",
              "      <td>9.155385</td>\n",
              "      <td>5.9</td>\n",
              "      <td>16</td>\n",
              "      <td>31</td>\n",
              "      <td>1</td>\n",
              "      <td>0</td>\n",
              "      <td>0</td>\n",
              "      <td>0</td>\n",
              "      <td>0</td>\n",
              "      <td>0</td>\n",
              "      <td>0</td>\n",
              "      <td>0</td>\n",
              "      <td>0</td>\n",
              "      <td>0</td>\n",
              "      <td>1</td>\n",
              "      <td>0</td>\n",
              "      <td>0</td>\n",
              "      <td>0</td>\n",
              "      <td>0</td>\n",
              "      <td>1</td>\n",
              "      <td>0</td>\n",
              "      <td>0</td>\n",
              "      <td>0</td>\n",
              "    </tr>\n",
              "    <tr>\n",
              "      <th>1</th>\n",
              "      <td>34</td>\n",
              "      <td>9.333333</td>\n",
              "      <td>115</td>\n",
              "      <td>9.038874</td>\n",
              "      <td>5.3</td>\n",
              "      <td>1</td>\n",
              "      <td>31</td>\n",
              "      <td>0</td>\n",
              "      <td>0</td>\n",
              "      <td>1</td>\n",
              "      <td>0</td>\n",
              "      <td>0</td>\n",
              "      <td>0</td>\n",
              "      <td>0</td>\n",
              "      <td>1</td>\n",
              "      <td>0</td>\n",
              "      <td>0</td>\n",
              "      <td>0</td>\n",
              "      <td>0</td>\n",
              "      <td>0</td>\n",
              "      <td>0</td>\n",
              "      <td>0</td>\n",
              "      <td>1</td>\n",
              "      <td>0</td>\n",
              "      <td>0</td>\n",
              "      <td>0</td>\n",
              "    </tr>\n",
              "    <tr>\n",
              "      <th>2</th>\n",
              "      <td>34</td>\n",
              "      <td>8.733333</td>\n",
              "      <td>145</td>\n",
              "      <td>9.038874</td>\n",
              "      <td>5.7</td>\n",
              "      <td>8</td>\n",
              "      <td>31</td>\n",
              "      <td>1</td>\n",
              "      <td>0</td>\n",
              "      <td>0</td>\n",
              "      <td>0</td>\n",
              "      <td>0</td>\n",
              "      <td>0</td>\n",
              "      <td>1</td>\n",
              "      <td>0</td>\n",
              "      <td>0</td>\n",
              "      <td>0</td>\n",
              "      <td>0</td>\n",
              "      <td>0</td>\n",
              "      <td>0</td>\n",
              "      <td>0</td>\n",
              "      <td>0</td>\n",
              "      <td>1</td>\n",
              "      <td>0</td>\n",
              "      <td>0</td>\n",
              "      <td>0</td>\n",
              "    </tr>\n",
              "  </tbody>\n",
              "</table>\n",
              "</div>"
            ],
            "text/plain": [
              "   bust_size   item_id  ...  body_type_petite  body_type_straight & narrow\n",
              "0         36  9.603175  ...                 0                            0\n",
              "1         34  9.333333  ...                 0                            0\n",
              "2         34  8.733333  ...                 0                            0\n",
              "\n",
              "[3 rows x 26 columns]"
            ]
          },
          "metadata": {
            "tags": []
          },
          "execution_count": 53
        }
      ]
    },
    {
      "cell_type": "code",
      "metadata": {
        "id": "y10-cpTeqRNm",
        "colab": {
          "base_uri": "https://localhost:8080/"
        },
        "outputId": "087443cc-b12b-49a5-8141-60a5e583ecba"
      },
      "source": [
        "# Resultando em\n",
        "\n",
        "y_train.head(3)"
      ],
      "execution_count": 54,
      "outputs": [
        {
          "output_type": "execute_result",
          "data": {
            "text/plain": [
              "0    10\n",
              "1    10\n",
              "2     8\n",
              "Name: rating, dtype: Int64"
            ]
          },
          "metadata": {
            "tags": []
          },
          "execution_count": 54
        }
      ]
    },
    {
      "cell_type": "markdown",
      "metadata": {
        "id": "FO5zdN8-r5I7"
      },
      "source": [
        "***Os dataframes \"train\" possuem dados que o modelo terá acesso a ser treinado, e os \"test\" serão usados para testar a performance do modelo. Os dataframes com \"X\" são as colunas preditoras, e \"Y\" a resposta ou 'rating'.***"
      ]
    },
    {
      "cell_type": "markdown",
      "metadata": {
        "id": "bi6qObU4snWr"
      },
      "source": [
        "### Aplicação das transformações finais para que os dados possam ser utilizados no modelo.[texto do link](https://)\n",
        "\n",
        " *Os dados precisam ter a mesma relevância, para nenhuma ser beneficiada ou prejudicada. Uma das diversas 'técnicas' será apresentada para padronizar o tamanho dos dados para tais ocasiões:*"
      ]
    },
    {
      "cell_type": "code",
      "metadata": {
        "id": "39guvx3RqRRC"
      },
      "source": [
        "# APLICAR AS FINALIZAÇÕES NOS DADOS\n",
        "\n",
        "# Importar o pacote sklearn na pasta preprocessing a função StandardScaler\n",
        "\n",
        "from sklearn.preprocessing import StandardScaler # MinMaxScaler é uma alternativa divertida também!\n",
        "\n",
        "x_col = x_train.columns.values\n",
        "\n",
        "# Instancia ro objeto StandardScaler \n",
        "\n",
        "sc = StandardScaler()\n",
        "\n",
        "# Aplicar a transformação aos dados de treino e teste\n",
        "\n",
        "x_train = sc.fit_transform(x_train)\n",
        "x_test = sc.transform(x_test)"
      ],
      "execution_count": 55,
      "outputs": []
    },
    {
      "cell_type": "code",
      "metadata": {
        "id": "iUaj2vSal4Kh",
        "colab": {
          "base_uri": "https://localhost:8080/"
        },
        "outputId": "aa2b99c7-274d-4ec7-e64e-aa36388d083d"
      },
      "source": [
        "# Resultando em\n",
        "\n",
        "x_train"
      ],
      "execution_count": 56,
      "outputs": [
        {
          "output_type": "execute_result",
          "data": {
            "text/plain": [
              "array([[ 1.10758444,  1.13315517,  0.36001135, ..., -0.37573182,\n",
              "        -0.39071664, -0.31046021],\n",
              "       [-0.06689197,  0.54714153, -1.02916661, ..., -0.37573182,\n",
              "        -0.39071664, -0.31046021],\n",
              "       [-0.06689197, -0.75587702,  0.36001135, ..., -0.37573182,\n",
              "        -0.39071664, -0.31046021],\n",
              "       ...,\n",
              "       [-0.06689197, -0.34381133, -1.16808441, ..., -0.37573182,\n",
              "         2.55939959, -0.31046021],\n",
              "       [-1.24136839,  0.54714153,  0.36001135, ..., -0.37573182,\n",
              "        -0.39071664, -0.31046021],\n",
              "       [-1.24136839,  0.22540856, -1.02916661, ..., -0.37573182,\n",
              "        -0.39071664, -0.31046021]])"
            ]
          },
          "metadata": {
            "tags": []
          },
          "execution_count": 56
        }
      ]
    },
    {
      "cell_type": "code",
      "metadata": {
        "id": "X3KQ0UeJqRUf",
        "colab": {
          "base_uri": "https://localhost:8080/"
        },
        "outputId": "9838e3aa-fd91-49e1-87c5-4253b15f4bcd"
      },
      "source": [
        "# TREINAR O MODELO INICIAL\n",
        "\n",
        "from xgboost import XGBRegressor\n",
        "\n",
        "# Criar o modelo\n",
        "\n",
        "xgb = XGBRegressor(random_state=2021)\n",
        "\n",
        "# Treinar o modelo com os dados de treino:\n",
        "\n",
        "xgb.fit(x_train, y_train)\n",
        "\n",
        "# Prever os resultados para os dados de teste\n",
        "\n",
        "y_pred = xgb.predict(x_test)"
      ],
      "execution_count": 57,
      "outputs": [
        {
          "output_type": "stream",
          "text": [
            "[16:32:56] WARNING: /workspace/src/objective/regression_obj.cu:152: reg:linear is now deprecated in favor of reg:squarederror.\n"
          ],
          "name": "stdout"
        }
      ]
    },
    {
      "cell_type": "markdown",
      "metadata": {
        "id": "qb0d1f0Zt7qx"
      },
      "source": [
        "### Medir a performance de seu modelo e sua métrica\n",
        "\n",
        "*Escolher métricas de performance mais adequadas, e ao final dela descobrir onde, como e quanto o modelo escolhido está tendo erros. As mais famosas escolhidas abrange RMSE, MAE e R², e são acompanhadas do processo de seleção, interpretação e visualização de erros em diferentes aspectos para uma melhor compreensão sobre o comportamento deste modelo.*\n",
        "\n"
      ]
    },
    {
      "cell_type": "code",
      "metadata": {
        "id": "LMyceV_On7QW",
        "colab": {
          "base_uri": "https://localhost:8080/"
        },
        "outputId": "a51e548e-102a-47b8-9c81-80a85fca2aca"
      },
      "source": [
        "# MEDIR A PERFORMANCE E QUALIDADE\n",
        "\n",
        "# Gerar métricas de performance do modelo\n",
        "\n",
        "from sklearn import metrics\n",
        "print('Mean Squared Error (MSE):', metrics.mean_squared_error(y_test, y_pred))\n",
        "print('Mean Absolute Error (MAE):', metrics.mean_absolute_error(y_test, y_pred))\n",
        "print('R²:', round(metrics.r2_score(y_test, y_pred)*100,2))"
      ],
      "execution_count": 58,
      "outputs": [
        {
          "output_type": "stream",
          "text": [
            "Mean Squared Error (MSE): 1.6982966327158366\n",
            "Mean Absolute Error (MAE): 1.0089394327895607\n",
            "R²: 16.69\n"
          ],
          "name": "stdout"
        }
      ]
    },
    {
      "cell_type": "code",
      "metadata": {
        "id": "lyRRrczDo_Ft",
        "colab": {
          "base_uri": "https://localhost:8080/",
          "height": 374
        },
        "outputId": "177731ee-6add-48e2-cb1c-f893b9e6a242"
      },
      "source": [
        "# Será feito um gráfico de histograma para demonstrar o comportamento do erro em diferentes valores de avaliação\n",
        "\n",
        "# Criar um dataframe só com colunas necessárias\n",
        "\n",
        "assessment_avaliacao = pd.DataFrame({'rating': y_test, 'predicao': y_pred})\n",
        "\n",
        "# Plotar o gráfico\n",
        "\n",
        "assessment_avaliacao.boxplot(by='rating', column='predicao', grid=False)"
      ],
      "execution_count": 59,
      "outputs": [
        {
          "output_type": "stream",
          "text": [
            "/usr/local/lib/python3.7/dist-packages/numpy/core/_asarray.py:83: VisibleDeprecationWarning: Creating an ndarray from ragged nested sequences (which is a list-or-tuple of lists-or-tuples-or ndarrays with different lengths or shapes) is deprecated. If you meant to do this, you must specify 'dtype=object' when creating the ndarray\n",
            "  return array(a, dtype, copy=False, order=order)\n"
          ],
          "name": "stderr"
        },
        {
          "output_type": "execute_result",
          "data": {
            "text/plain": [
              "<matplotlib.axes._subplots.AxesSubplot at 0x7f580b229fd0>"
            ]
          },
          "metadata": {
            "tags": []
          },
          "execution_count": 59
        },
        {
          "output_type": "display_data",
          "data": {
            "image/png": "[encoded data removed]",
            "text/plain": [
              "<Figure size 432x288 with 1 Axes>"
            ]
          },
          "metadata": {
            "tags": [],
            "needs_background": "light"
          }
        }
      ]
    },
    {
      "cell_type": "code",
      "metadata": {
        "id": "JjLBjhIconP4",
        "colab": {
          "base_uri": "https://localhost:8080/",
          "height": 234
        },
        "outputId": "13861ccd-fcee-4206-9c09-e469bf8e3e6d"
      },
      "source": [
        "# Criar uma tabela com outras métricas de erro\n",
        "\n",
        "# Quantidade de desvio da realidade do modelo por tentativas\n",
        "\n",
        "assessment_avaliacao['erro'] = assessment_avaliacao['predicao'] - assessment_avaliacao['rating']\n",
        "\n",
        "# Quantidade de desvio da realidade do modelo por tentativas em termos absolutos\n",
        "\n",
        "assessment_avaliacao['erro_absoluto'] = abs(assessment_avaliacao['predicao'] - assessment_avaliacao['rating'])\n",
        "\n",
        "# Quantidade de desvio da realidade do modelo por tentativas em porcentagem\n",
        "\n",
        "assessment_avaliacao['erro_percentual'] = (assessment_avaliacao['predicao'] / assessment_avaliacao['rating'])-1\n",
        "\n",
        "# Quantidade de desvio da realidade do modelo por tentativas em porcentagem absoluta\n",
        "\n",
        "assessment_avaliacao['erro_percentual_absoluto'] = abs((assessment_avaliacao['predicao'] / assessment_avaliacao['rating'])-1)\n",
        "\n",
        "# Média dos valores calculados acima quebrados por valores de rating observados\n",
        "\n",
        "assessment_avaliacao_final = assessment_avaliacao.groupby(['rating']).mean().round(4)\n",
        "assessment_avaliacao_final['frequencia'] = assessment_avaliacao.groupby(['rating']).predicao.count()\n",
        "assessment_avaliacao_final['frequencia_percentual'] = assessment_avaliacao.groupby(['rating']).predicao.count() / assessment_avaliacao.shape[0]\n",
        "assessment_avaliacao_final"
      ],
      "execution_count": 60,
      "outputs": [
        {
          "output_type": "execute_result",
          "data": {
            "text/html": [
              "<div>\n",
              "<style scoped>\n",
              "    .dataframe tbody tr th:only-of-type {\n",
              "        vertical-align: middle;\n",
              "    }\n",
              "\n",
              "    .dataframe tbody tr th {\n",
              "        vertical-align: top;\n",
              "    }\n",
              "\n",
              "    .dataframe thead th {\n",
              "        text-align: right;\n",
              "    }\n",
              "</style>\n",
              "<table border=\"1\" class=\"dataframe\">\n",
              "  <thead>\n",
              "    <tr style=\"text-align: right;\">\n",
              "      <th></th>\n",
              "      <th>predicao</th>\n",
              "      <th>erro</th>\n",
              "      <th>erro_absoluto</th>\n",
              "      <th>erro_percentual</th>\n",
              "      <th>erro_percentual_absoluto</th>\n",
              "      <th>frequencia</th>\n",
              "      <th>frequencia_percentual</th>\n",
              "    </tr>\n",
              "    <tr>\n",
              "      <th>rating</th>\n",
              "      <th></th>\n",
              "      <th></th>\n",
              "      <th></th>\n",
              "      <th></th>\n",
              "      <th></th>\n",
              "      <th></th>\n",
              "      <th></th>\n",
              "    </tr>\n",
              "  </thead>\n",
              "  <tbody>\n",
              "    <tr>\n",
              "      <th>2</th>\n",
              "      <td>8.1204</td>\n",
              "      <td>6.1204</td>\n",
              "      <td>6.1204</td>\n",
              "      <td>3.0602</td>\n",
              "      <td>3.0602</td>\n",
              "      <td>149</td>\n",
              "      <td>0.005097</td>\n",
              "    </tr>\n",
              "    <tr>\n",
              "      <th>4</th>\n",
              "      <td>8.2157</td>\n",
              "      <td>4.2157</td>\n",
              "      <td>4.2157</td>\n",
              "      <td>1.0539</td>\n",
              "      <td>1.0539</td>\n",
              "      <td>419</td>\n",
              "      <td>0.014333</td>\n",
              "    </tr>\n",
              "    <tr>\n",
              "      <th>6</th>\n",
              "      <td>8.5174</td>\n",
              "      <td>2.5174</td>\n",
              "      <td>2.5218</td>\n",
              "      <td>0.4196</td>\n",
              "      <td>0.4203</td>\n",
              "      <td>1676</td>\n",
              "      <td>0.057331</td>\n",
              "    </tr>\n",
              "    <tr>\n",
              "      <th>8</th>\n",
              "      <td>8.9137</td>\n",
              "      <td>0.9137</td>\n",
              "      <td>0.9820</td>\n",
              "      <td>0.1142</td>\n",
              "      <td>0.1228</td>\n",
              "      <td>8054</td>\n",
              "      <td>0.275501</td>\n",
              "    </tr>\n",
              "    <tr>\n",
              "      <th>10</th>\n",
              "      <td>9.2251</td>\n",
              "      <td>-0.7749</td>\n",
              "      <td>0.7753</td>\n",
              "      <td>-0.0775</td>\n",
              "      <td>0.0775</td>\n",
              "      <td>18936</td>\n",
              "      <td>0.647739</td>\n",
              "    </tr>\n",
              "  </tbody>\n",
              "</table>\n",
              "</div>"
            ],
            "text/plain": [
              "        predicao    erro  ...  frequencia  frequencia_percentual\n",
              "rating                    ...                                   \n",
              "2         8.1204  6.1204  ...         149               0.005097\n",
              "4         8.2157  4.2157  ...         419               0.014333\n",
              "6         8.5174  2.5174  ...        1676               0.057331\n",
              "8         8.9137  0.9137  ...        8054               0.275501\n",
              "10        9.2251 -0.7749  ...       18936               0.647739\n",
              "\n",
              "[5 rows x 7 columns]"
            ]
          },
          "metadata": {
            "tags": []
          },
          "execution_count": 60
        }
      ]
    },
    {
      "cell_type": "markdown",
      "metadata": {
        "id": "N521DTZEuCGr"
      },
      "source": [
        "#### Há um baixo desempenho do modelo. Visualizando as métricas abaixo, pode-se ver:\n",
        "\n",
        "-*Mean Squared Error (MSE): eleva ao quadrado o erro do modelo, pois quanto o maior o erro, maior o valor dele. Então esta métrica otimizará o modelo dando enfaze aos erros. Mas a interpretação é baixa e por isso não funciona bem para variáveis respostas entre-1 e 1.*\n",
        "\n",
        "-*Mean Absolute Error (MAE): Métrica simplificada porém de grande poder em questão de magnitude do erro na vida real. Na média, as tentativas do modelo pode desviar da realidade em termos absolutos.*\n",
        "*No modelo adotado neste projeto, o valor é de 1.076, ou seja,em notas de 0 à 10 o modelo erra, na média, em cerca de 1. Nesta métrica não há um referencial de comparação, podendo dificultar a análise sobre a qualidade do modelo em geral.*\n",
        "\n",
        "*-[R²](https://pt.wikipedia.org/wiki/Coeficiente_de_determina%C3%A7%C3%A3o) - link que explica em detalhes: simplifica o R² que é expressa em porcentagem, opu seja, a quantidade que o modelo é melhor do que só usar a média dos dados.\n",
        "Essa métrica apresenta de forma clara o quão o modelo adotado pode ser bom. Mas no caso aqui apresenta 9.11% de 100%, e não é um bom resultado.*\n",
        "*Nesta métrica, ela é capaz de que quanto boa a média for como preditora o grau de exigência dela aumenta ou diminui. Então a métrica não é suficiente para uma observação plena do modelo adotado. Com isto é necessário adotar pelo menos 3 métricas de premissas diferentes, e não usar estas métricas para clçassificações ou cluster, pois elas mudam dependendo de cada problema*\n",
        "\n",
        "*Situação do modelo adotado:*\n",
        "\n",
        "*A MAE e MSE tem bons resultados, mas o R² não, pois ao calcular as métricas e comparar as tentativas do modelo com os valores reais no boxplot, seria complacente neste gráfico que os valores dos eixos x e y estejam alinhados, mas não estão. O modelo tem uma amplitude tentativas enormes, superestimando e subestimeando valores baixos. Ao fazer uma tabela do valor em que o modelo deveria estimar, o que estimou na média e os erros destas tenativas. Então se observa um erro_percentual_absoluto - quanto mais longe o valor está de 10 em 'rating', mais há erro do modelo, indo de 8.35% em 10 para 329.14% em 2. Portanto as previsões são boas para valores de 'rating' entre 8 e 10, que compõe 92% dos dados, mas há muitos erros para os outros, desproporcionando para valores altos, apresentando diversos espaços a melhorar.*  \n",
        "\n",
        "*Ao analisar dados, estão desproporcionais, pois tem muito mais alguns valores (10) do que outros (2), sendo bem ruim, pois \"estimula\" o modelo adotado ficar duvidoso em suas tentativas sobre o valor mais frequente.\n",
        "*As diversas técnicas existentes são, [técnicas](https://towardsdatascience.com/how-to-deal-with-imbalanced-data-34ab7db9b100) - informado como consulta.*"
      ]
    },
    {
      "cell_type": "markdown",
      "metadata": {
        "id": "s0wPMNR9uCRh"
      },
      "source": [
        "### Examinando o grau de importância referente a satisfação em cada coluna\n",
        "\n",
        "*Haverá extração das colunas mais relevantes que impactarão na predição da satisfação do cliente em questão de quanto melhor o modelo mais a será levado a opinião sobre esta intenção.*\n",
        "\n",
        "*É de grande relevância a medição da variável do quanto o modelo é prejudicado, ou seja, se ele não tem acesso a informação de uma coluna específica. \n",
        "*Então a coluna que conseguiu prever a satisfação é (fit_fit + fit_large + fit_small) com cerca de 65.08% de toda a importância, seguida pelo id do produto (item_id) com 19.12% e em terceiro a ocasião do aluguel (rented_for...) com 5.94%.*\n",
        "\n",
        "*Este dados serão acompanhados de gráficos, gerados na análise exploratória, e se os resultados ficarem diferentes do que foi encontrado, terá um problema.*\n",
        "\n",
        "*Por fim a variável não cusa o resultado, mas sim estão correlacionadas, epor isso para provar a causalidade, é necessário que \"A\" cause \"B\", \"B\" não cause \"A\" e que \"A\" aconteça antes de \"B\".*"
      ]
    },
    {
      "cell_type": "code",
      "metadata": {
        "id": "2GXjs7dX8GBQ",
        "colab": {
          "base_uri": "https://localhost:8080/",
          "height": 850
        },
        "outputId": "bb3266ec-ab6c-4535-dfe2-d0a3bb30cf09"
      },
      "source": [
        "# Analisar a importância dos features\n",
        "\n",
        "# Extrair a importância dos features\n",
        "\n",
        "importances = xgb.feature_importances_\n",
        "\n",
        "# Transformar os valores extraidos em um dataframe organizado\n",
        "\n",
        "feature_importances = pd.DataFrame({\"feature\": x_col, \"importance\":importances*100})\n",
        "\n",
        "# Ordenar os valores do mais importante para o menos\n",
        "\n",
        "feature_importances.sort_values(\"importance\", ascending=False).head(30)"
      ],
      "execution_count": 61,
      "outputs": [
        {
          "output_type": "execute_result",
          "data": {
            "text/html": [
              "<div>\n",
              "<style scoped>\n",
              "    .dataframe tbody tr th:only-of-type {\n",
              "        vertical-align: middle;\n",
              "    }\n",
              "\n",
              "    .dataframe tbody tr th {\n",
              "        vertical-align: top;\n",
              "    }\n",
              "\n",
              "    .dataframe thead th {\n",
              "        text-align: right;\n",
              "    }\n",
              "</style>\n",
              "<table border=\"1\" class=\"dataframe\">\n",
              "  <thead>\n",
              "    <tr style=\"text-align: right;\">\n",
              "      <th></th>\n",
              "      <th>feature</th>\n",
              "      <th>importance</th>\n",
              "    </tr>\n",
              "  </thead>\n",
              "  <tbody>\n",
              "    <tr>\n",
              "      <th>7</th>\n",
              "      <td>fit_fit</td>\n",
              "      <td>57.978844</td>\n",
              "    </tr>\n",
              "    <tr>\n",
              "      <th>1</th>\n",
              "      <td>item_id</td>\n",
              "      <td>19.805986</td>\n",
              "    </tr>\n",
              "    <tr>\n",
              "      <th>9</th>\n",
              "      <td>fit_small</td>\n",
              "      <td>3.436148</td>\n",
              "    </tr>\n",
              "    <tr>\n",
              "      <th>8</th>\n",
              "      <td>fit_large</td>\n",
              "      <td>3.366457</td>\n",
              "    </tr>\n",
              "    <tr>\n",
              "      <th>2</th>\n",
              "      <td>weight</td>\n",
              "      <td>2.538455</td>\n",
              "    </tr>\n",
              "    <tr>\n",
              "      <th>6</th>\n",
              "      <td>age</td>\n",
              "      <td>1.666749</td>\n",
              "    </tr>\n",
              "    <tr>\n",
              "      <th>5</th>\n",
              "      <td>size</td>\n",
              "      <td>1.386900</td>\n",
              "    </tr>\n",
              "    <tr>\n",
              "      <th>13</th>\n",
              "      <td>rented_for_other</td>\n",
              "      <td>1.368272</td>\n",
              "    </tr>\n",
              "    <tr>\n",
              "      <th>11</th>\n",
              "      <td>rented_for_everyday</td>\n",
              "      <td>1.219126</td>\n",
              "    </tr>\n",
              "    <tr>\n",
              "      <th>18</th>\n",
              "      <td>rented_for_work</td>\n",
              "      <td>0.895175</td>\n",
              "    </tr>\n",
              "    <tr>\n",
              "      <th>25</th>\n",
              "      <td>body_type_straight &amp; narrow</td>\n",
              "      <td>0.871978</td>\n",
              "    </tr>\n",
              "    <tr>\n",
              "      <th>14</th>\n",
              "      <td>rented_for_party</td>\n",
              "      <td>0.778971</td>\n",
              "    </tr>\n",
              "    <tr>\n",
              "      <th>17</th>\n",
              "      <td>rented_for_wedding</td>\n",
              "      <td>0.737062</td>\n",
              "    </tr>\n",
              "    <tr>\n",
              "      <th>4</th>\n",
              "      <td>height</td>\n",
              "      <td>0.708289</td>\n",
              "    </tr>\n",
              "    <tr>\n",
              "      <th>0</th>\n",
              "      <td>bust_size</td>\n",
              "      <td>0.566225</td>\n",
              "    </tr>\n",
              "    <tr>\n",
              "      <th>12</th>\n",
              "      <td>rented_for_formal affair</td>\n",
              "      <td>0.547580</td>\n",
              "    </tr>\n",
              "    <tr>\n",
              "      <th>19</th>\n",
              "      <td>body_type_apple</td>\n",
              "      <td>0.513450</td>\n",
              "    </tr>\n",
              "    <tr>\n",
              "      <th>10</th>\n",
              "      <td>rented_for_date</td>\n",
              "      <td>0.496094</td>\n",
              "    </tr>\n",
              "    <tr>\n",
              "      <th>3</th>\n",
              "      <td>category</td>\n",
              "      <td>0.424426</td>\n",
              "    </tr>\n",
              "    <tr>\n",
              "      <th>23</th>\n",
              "      <td>body_type_pear</td>\n",
              "      <td>0.368205</td>\n",
              "    </tr>\n",
              "    <tr>\n",
              "      <th>20</th>\n",
              "      <td>body_type_athletic</td>\n",
              "      <td>0.325599</td>\n",
              "    </tr>\n",
              "    <tr>\n",
              "      <th>15</th>\n",
              "      <td>rented_for_party: cocktail</td>\n",
              "      <td>0.000000</td>\n",
              "    </tr>\n",
              "    <tr>\n",
              "      <th>16</th>\n",
              "      <td>rented_for_vacation</td>\n",
              "      <td>0.000000</td>\n",
              "    </tr>\n",
              "    <tr>\n",
              "      <th>21</th>\n",
              "      <td>body_type_full bust</td>\n",
              "      <td>0.000000</td>\n",
              "    </tr>\n",
              "    <tr>\n",
              "      <th>22</th>\n",
              "      <td>body_type_hourglass</td>\n",
              "      <td>0.000000</td>\n",
              "    </tr>\n",
              "    <tr>\n",
              "      <th>24</th>\n",
              "      <td>body_type_petite</td>\n",
              "      <td>0.000000</td>\n",
              "    </tr>\n",
              "  </tbody>\n",
              "</table>\n",
              "</div>"
            ],
            "text/plain": [
              "                        feature  importance\n",
              "7                       fit_fit   57.978844\n",
              "1                       item_id   19.805986\n",
              "9                     fit_small    3.436148\n",
              "8                     fit_large    3.366457\n",
              "2                        weight    2.538455\n",
              "6                           age    1.666749\n",
              "5                          size    1.386900\n",
              "13             rented_for_other    1.368272\n",
              "11          rented_for_everyday    1.219126\n",
              "18              rented_for_work    0.895175\n",
              "25  body_type_straight & narrow    0.871978\n",
              "14             rented_for_party    0.778971\n",
              "17           rented_for_wedding    0.737062\n",
              "4                        height    0.708289\n",
              "0                     bust_size    0.566225\n",
              "12     rented_for_formal affair    0.547580\n",
              "19              body_type_apple    0.513450\n",
              "10              rented_for_date    0.496094\n",
              "3                      category    0.424426\n",
              "23               body_type_pear    0.368205\n",
              "20           body_type_athletic    0.325599\n",
              "15   rented_for_party: cocktail    0.000000\n",
              "16          rented_for_vacation    0.000000\n",
              "21          body_type_full bust    0.000000\n",
              "22          body_type_hourglass    0.000000\n",
              "24             body_type_petite    0.000000"
            ]
          },
          "metadata": {
            "tags": []
          },
          "execution_count": 61
        }
      ]
    },
    {
      "cell_type": "markdown",
      "metadata": {
        "id": "2jHGtJ7P8X71"
      },
      "source": [
        "### Otimização do modelo\n",
        "\n",
        "*Há diversas maneiras de otimizar um modelo através dos dados que colaboram no aprendizado (feature engineering e subamostragens). è possível criar modelos especializados para darem assistência no pré-processar dos dados no modelo final e ajustando o modelo escolhido, mostrando de forma simples os hiperparâmetros (configurações do modelo a ser adotado, se ajustando de acordo com o aprendizado do modelo), para melhorar o desempenho do modelo.*\n",
        "*Por fim será escolhido aleatóriamente e testado com intuíto de resultar em alguma melhoria, e este método é conhecido como Random Grid Search (RGS).*"
      ]
    },
    {
      "cell_type": "code",
      "metadata": {
        "id": "XEGtfC008GPF"
      },
      "source": [
        "# Serão escolhidos os hiperparâmetros e os valores para teste, e os valores determinados aleatóriamente\n",
        "\n",
        "random_grid = {\n",
        "    'learning_rate': [0.01, 0.03, 0.05, 0.07, 0.1, 0.12, 0.15],\n",
        "    'max_depth': [1, 3, 5, 7, 10, 12, 15, 17, 20, 23, 25],\n",
        "    'min_child_weight': [1, 3, 5, 7, 10, 12, 15],\n",
        "    'subsample': [0.3, 0.5, 0.7, 1.0],\n",
        "    'colsample_bytree': [0.1, 0.3, 0.5, 0.7, 0.9, 0.12, 0.15],\n",
        "    'n_estimators' : [400, 440, 480, 520, 560, 600, 640, 680, 720],\n",
        "}\n",
        "\n",
        "# Foi criado um dicionário que armazena os testes selecionados e seus resultados\n",
        "\n",
        "hyper_dict = {\n",
        "    'learning_rate': [],\n",
        "    'max_depth': [],\n",
        "    'min_child_weight': [],\n",
        "    'subsample': [],\n",
        "    'colsample_bytree': [],\n",
        "    'n_estimators': [],\n",
        "    'mean_squared_error': [],\n",
        "    'mean_absolute_error': [],\n",
        "    'time_to_fit': []\n",
        "}    "
      ],
      "execution_count": 62,
      "outputs": []
    },
    {
      "cell_type": "code",
      "metadata": {
        "id": "-XhpFHMR-1sN",
        "colab": {
          "base_uri": "https://localhost:8080/"
        },
        "outputId": "9ff7a096-996b-48ad-e851-e83be659ae66"
      },
      "source": [
        "import random as rd\n",
        "from datetime import datetime\n",
        "\n",
        "# Foram escolhidos quantas tentativas serão feitas\n",
        "\n",
        "n_times = 30\n",
        "\n",
        "# Cada uma delas serão feitas dentro do FOR\n",
        "\n",
        "for i in range(n_times):\n",
        "    \n",
        "    # A hora é determinada para iniciar a seleção aleatória\n",
        "\n",
        "    now_b = datetime.now()\n",
        "    \n",
        "    # A seleção é feita para cada um dos hiperparâmetros\n",
        "\n",
        "    ss = rd.choice(random_grid['subsample'])\n",
        "    ns = rd.choice(random_grid['n_estimators'])\n",
        "    mcw = rd.choice(random_grid['min_child_weight'])\n",
        "    md = rd.choice(random_grid['max_depth'])\n",
        "    lr = rd.choice(random_grid['learning_rate'])\n",
        "    cst = rd.choice(random_grid['colsample_bytree'])\n",
        "\n",
        "\n",
        "    # O modelo é escolhido, passando os hiperparâmetros selecionados\n",
        "\n",
        "    xgb = XGBRegressor(random_state=2021, use_label_encoder=False, objective ='reg:squarederror',\n",
        "                        subsample= ss,\n",
        "                        n_estimators= ns,\n",
        "                        min_child_weight= mcw,\n",
        "                        max_depth= md,\n",
        "                        learning_rate= lr, \n",
        "                        colsample_bytree= cst)\n",
        "\n",
        "    # É treinado o modelo com os dados de treino\n",
        "\n",
        "    xgb.fit(x_train, y_train)\n",
        "\n",
        "    # São geradas as previsões do modelo para os dados de teste\n",
        "\n",
        "    y_pred = xgb.predict(x_test)\n",
        "    \n",
        "    # Há a medição da performance do modelo em 3 métricas diferentes\n",
        "\n",
        "    mse = metrics.mean_squared_error(y_test, y_pred)\n",
        "    mae = metrics.mean_absolute_error(y_test, y_pred)\n",
        "    r2 = round(metrics.r2_score(y_test, y_pred)*100,2)\n",
        "    \n",
        "    # é marcada a hora para o término do treino\n",
        "\n",
        "    now_e = datetime.now()\n",
        "    \n",
        "    # É calculado o tempo levado para a tentativa\n",
        "\n",
        "    td = now_e-now_b\n",
        "    \n",
        "    # E por fim são salvos os resultados no dicionário que foi criado anteriormente\n",
        "\n",
        "    hyper_dict['subsample'].append(ss)\n",
        "    hyper_dict['n_estimators'].append(ns)\n",
        "    hyper_dict['min_child_weight'].append(mcw)\n",
        "    hyper_dict['max_depth'].append(md)\n",
        "    hyper_dict['learning_rate'].append(lr)\n",
        "    hyper_dict['colsample_bytree'].append(cst)\n",
        "    hyper_dict['mean_squared_error'].append(mse)\n",
        "    hyper_dict['mean_absolute_error'].append(mae)\n",
        "    hyper_dict['time_to_fit'].append(td.seconds)\n",
        "    \n",
        "    # A cada 10 tentativas, é salvo os resultados em um dataframe\n",
        "\n",
        "    if i in range(0,n_times,10):\n",
        "        hassessment = pd.DataFrame(hyper_dict)\n",
        "        hassessment.to_csv('hassessment.csv')\n",
        "    \n",
        "    # É feita a exposição resultados na tela\n",
        "\n",
        "    print(i, td.seconds,'seconds','mae:', mae, 'R²:', r2)\n"
      ],
      "execution_count": 63,
      "outputs": [
        {
          "output_type": "stream",
          "text": [
            "0 19 seconds mae: 1.1354279315544233 R²: 9.13\n",
            "1 53 seconds mae: 1.0067420972064784 R²: 15.91\n",
            "2 133 seconds mae: 1.0285024278147763 R²: 8.3\n",
            "3 617 seconds mae: 1.05320892687037 R²: 2.14\n",
            "4 23 seconds mae: 1.006133787248842 R²: 15.93\n",
            "5 454 seconds mae: 1.147459118210634 R²: -16.03\n",
            "6 33 seconds mae: 1.0894923280281548 R²: 12.34\n",
            "7 165 seconds mae: 1.0832729886345918 R²: -3.0\n",
            "8 43 seconds mae: 1.004273686443576 R²: 17.08\n",
            "9 23 seconds mae: 1.0065480758547334 R²: 15.73\n",
            "10 12 seconds mae: 1.1567850765356933 R²: 7.34\n",
            "11 51 seconds mae: 1.0028976708061352 R²: 17.29\n",
            "12 90 seconds mae: 1.002939056606375 R²: 17.14\n",
            "13 46 seconds mae: 1.0029117267125445 R²: 17.1\n",
            "14 45 seconds mae: 1.0237020639483625 R²: 16.35\n",
            "15 18 seconds mae: 1.006971609497018 R²: 16.73\n",
            "16 56 seconds mae: 1.0216118460633878 R²: 11.13\n",
            "17 122 seconds mae: 1.0348543501131886 R²: 15.84\n",
            "18 37 seconds mae: 1.0117185170293108 R²: 14.12\n",
            "19 39 seconds mae: 1.0201962374870988 R²: 15.41\n",
            "20 34 seconds mae: 1.0068588624323833 R²: 16.81\n",
            "21 36 seconds mae: 1.004839098093863 R²: 17.07\n",
            "22 150 seconds mae: 1.0061513177345576 R²: 15.51\n",
            "23 30 seconds mae: 1.0048270985375043 R²: 16.67\n",
            "24 191 seconds mae: 1.0313563645028738 R²: 7.28\n",
            "25 37 seconds mae: 1.0098397614341466 R²: 14.69\n",
            "26 99 seconds mae: 1.0032286110773796 R²: 17.18\n",
            "27 69 seconds mae: 1.0099998385095397 R²: 15.09\n",
            "28 202 seconds mae: 1.032681548783821 R²: 7.26\n",
            "29 29 seconds mae: 1.0040341464636582 R²: 16.55\n"
          ],
          "name": "stdout"
        }
      ]
    },
    {
      "cell_type": "code",
      "metadata": {
        "id": "2HuWJls6AEHV",
        "colab": {
          "base_uri": "https://localhost:8080/",
          "height": 973
        },
        "outputId": "c72ba23d-f6ec-443b-f6a2-d959c8ba3e13"
      },
      "source": [
        "# A amostragem dos resultados da seleção aleatória ordenados do melhor para o pior\n",
        "\n",
        "hassessment = pd.DataFrame(hyper_dict)\n",
        "hassessment.sort_values(['mean_squared_error'], ascending=True)"
      ],
      "execution_count": 64,
      "outputs": [
        {
          "output_type": "execute_result",
          "data": {
            "text/html": [
              "<div>\n",
              "<style scoped>\n",
              "    .dataframe tbody tr th:only-of-type {\n",
              "        vertical-align: middle;\n",
              "    }\n",
              "\n",
              "    .dataframe tbody tr th {\n",
              "        vertical-align: top;\n",
              "    }\n",
              "\n",
              "    .dataframe thead th {\n",
              "        text-align: right;\n",
              "    }\n",
              "</style>\n",
              "<table border=\"1\" class=\"dataframe\">\n",
              "  <thead>\n",
              "    <tr style=\"text-align: right;\">\n",
              "      <th></th>\n",
              "      <th>learning_rate</th>\n",
              "      <th>max_depth</th>\n",
              "      <th>min_child_weight</th>\n",
              "      <th>subsample</th>\n",
              "      <th>colsample_bytree</th>\n",
              "      <th>n_estimators</th>\n",
              "      <th>mean_squared_error</th>\n",
              "      <th>mean_absolute_error</th>\n",
              "      <th>time_to_fit</th>\n",
              "    </tr>\n",
              "  </thead>\n",
              "  <tbody>\n",
              "    <tr>\n",
              "      <th>11</th>\n",
              "      <td>0.05</td>\n",
              "      <td>5</td>\n",
              "      <td>12</td>\n",
              "      <td>0.7</td>\n",
              "      <td>0.50</td>\n",
              "      <td>480</td>\n",
              "      <td>1.686104</td>\n",
              "      <td>1.002898</td>\n",
              "      <td>51</td>\n",
              "    </tr>\n",
              "    <tr>\n",
              "      <th>26</th>\n",
              "      <td>0.03</td>\n",
              "      <td>7</td>\n",
              "      <td>10</td>\n",
              "      <td>0.7</td>\n",
              "      <td>0.90</td>\n",
              "      <td>480</td>\n",
              "      <td>1.688320</td>\n",
              "      <td>1.003229</td>\n",
              "      <td>99</td>\n",
              "    </tr>\n",
              "    <tr>\n",
              "      <th>12</th>\n",
              "      <td>0.05</td>\n",
              "      <td>5</td>\n",
              "      <td>10</td>\n",
              "      <td>0.7</td>\n",
              "      <td>0.70</td>\n",
              "      <td>720</td>\n",
              "      <td>1.689292</td>\n",
              "      <td>1.002939</td>\n",
              "      <td>90</td>\n",
              "    </tr>\n",
              "    <tr>\n",
              "      <th>13</th>\n",
              "      <td>0.15</td>\n",
              "      <td>3</td>\n",
              "      <td>5</td>\n",
              "      <td>1.0</td>\n",
              "      <td>0.70</td>\n",
              "      <td>720</td>\n",
              "      <td>1.690099</td>\n",
              "      <td>1.002912</td>\n",
              "      <td>46</td>\n",
              "    </tr>\n",
              "    <tr>\n",
              "      <th>8</th>\n",
              "      <td>0.07</td>\n",
              "      <td>3</td>\n",
              "      <td>15</td>\n",
              "      <td>0.7</td>\n",
              "      <td>0.50</td>\n",
              "      <td>640</td>\n",
              "      <td>1.690352</td>\n",
              "      <td>1.004274</td>\n",
              "      <td>43</td>\n",
              "    </tr>\n",
              "    <tr>\n",
              "      <th>21</th>\n",
              "      <td>0.07</td>\n",
              "      <td>3</td>\n",
              "      <td>15</td>\n",
              "      <td>0.5</td>\n",
              "      <td>0.30</td>\n",
              "      <td>640</td>\n",
              "      <td>1.690685</td>\n",
              "      <td>1.004839</td>\n",
              "      <td>36</td>\n",
              "    </tr>\n",
              "    <tr>\n",
              "      <th>20</th>\n",
              "      <td>0.03</td>\n",
              "      <td>3</td>\n",
              "      <td>7</td>\n",
              "      <td>0.3</td>\n",
              "      <td>0.70</td>\n",
              "      <td>480</td>\n",
              "      <td>1.695960</td>\n",
              "      <td>1.006859</td>\n",
              "      <td>34</td>\n",
              "    </tr>\n",
              "    <tr>\n",
              "      <th>15</th>\n",
              "      <td>0.07</td>\n",
              "      <td>5</td>\n",
              "      <td>10</td>\n",
              "      <td>1.0</td>\n",
              "      <td>0.15</td>\n",
              "      <td>400</td>\n",
              "      <td>1.697499</td>\n",
              "      <td>1.006972</td>\n",
              "      <td>18</td>\n",
              "    </tr>\n",
              "    <tr>\n",
              "      <th>23</th>\n",
              "      <td>0.07</td>\n",
              "      <td>5</td>\n",
              "      <td>5</td>\n",
              "      <td>0.5</td>\n",
              "      <td>0.12</td>\n",
              "      <td>560</td>\n",
              "      <td>1.698747</td>\n",
              "      <td>1.004827</td>\n",
              "      <td>30</td>\n",
              "    </tr>\n",
              "    <tr>\n",
              "      <th>29</th>\n",
              "      <td>0.15</td>\n",
              "      <td>5</td>\n",
              "      <td>3</td>\n",
              "      <td>0.7</td>\n",
              "      <td>0.10</td>\n",
              "      <td>680</td>\n",
              "      <td>1.701298</td>\n",
              "      <td>1.004034</td>\n",
              "      <td>29</td>\n",
              "    </tr>\n",
              "    <tr>\n",
              "      <th>14</th>\n",
              "      <td>0.01</td>\n",
              "      <td>3</td>\n",
              "      <td>3</td>\n",
              "      <td>0.7</td>\n",
              "      <td>0.70</td>\n",
              "      <td>560</td>\n",
              "      <td>1.705250</td>\n",
              "      <td>1.023702</td>\n",
              "      <td>45</td>\n",
              "    </tr>\n",
              "    <tr>\n",
              "      <th>4</th>\n",
              "      <td>0.15</td>\n",
              "      <td>7</td>\n",
              "      <td>3</td>\n",
              "      <td>0.5</td>\n",
              "      <td>0.10</td>\n",
              "      <td>440</td>\n",
              "      <td>1.713932</td>\n",
              "      <td>1.006134</td>\n",
              "      <td>23</td>\n",
              "    </tr>\n",
              "    <tr>\n",
              "      <th>1</th>\n",
              "      <td>0.07</td>\n",
              "      <td>10</td>\n",
              "      <td>12</td>\n",
              "      <td>0.5</td>\n",
              "      <td>0.12</td>\n",
              "      <td>640</td>\n",
              "      <td>1.714376</td>\n",
              "      <td>1.006742</td>\n",
              "      <td>53</td>\n",
              "    </tr>\n",
              "    <tr>\n",
              "      <th>17</th>\n",
              "      <td>0.01</td>\n",
              "      <td>20</td>\n",
              "      <td>1</td>\n",
              "      <td>1.0</td>\n",
              "      <td>0.30</td>\n",
              "      <td>560</td>\n",
              "      <td>1.715676</td>\n",
              "      <td>1.034854</td>\n",
              "      <td>122</td>\n",
              "    </tr>\n",
              "    <tr>\n",
              "      <th>9</th>\n",
              "      <td>0.10</td>\n",
              "      <td>1</td>\n",
              "      <td>7</td>\n",
              "      <td>0.3</td>\n",
              "      <td>0.70</td>\n",
              "      <td>600</td>\n",
              "      <td>1.717884</td>\n",
              "      <td>1.006548</td>\n",
              "      <td>23</td>\n",
              "    </tr>\n",
              "    <tr>\n",
              "      <th>22</th>\n",
              "      <td>0.03</td>\n",
              "      <td>17</td>\n",
              "      <td>15</td>\n",
              "      <td>0.5</td>\n",
              "      <td>0.30</td>\n",
              "      <td>640</td>\n",
              "      <td>1.722531</td>\n",
              "      <td>1.006151</td>\n",
              "      <td>150</td>\n",
              "    </tr>\n",
              "    <tr>\n",
              "      <th>19</th>\n",
              "      <td>0.03</td>\n",
              "      <td>20</td>\n",
              "      <td>1</td>\n",
              "      <td>1.0</td>\n",
              "      <td>0.12</td>\n",
              "      <td>480</td>\n",
              "      <td>1.724491</td>\n",
              "      <td>1.020196</td>\n",
              "      <td>39</td>\n",
              "    </tr>\n",
              "    <tr>\n",
              "      <th>27</th>\n",
              "      <td>0.10</td>\n",
              "      <td>7</td>\n",
              "      <td>10</td>\n",
              "      <td>0.3</td>\n",
              "      <td>0.30</td>\n",
              "      <td>720</td>\n",
              "      <td>1.731062</td>\n",
              "      <td>1.010000</td>\n",
              "      <td>69</td>\n",
              "    </tr>\n",
              "    <tr>\n",
              "      <th>25</th>\n",
              "      <td>0.12</td>\n",
              "      <td>17</td>\n",
              "      <td>10</td>\n",
              "      <td>0.5</td>\n",
              "      <td>0.10</td>\n",
              "      <td>560</td>\n",
              "      <td>1.739197</td>\n",
              "      <td>1.009840</td>\n",
              "      <td>37</td>\n",
              "    </tr>\n",
              "    <tr>\n",
              "      <th>18</th>\n",
              "      <td>0.10</td>\n",
              "      <td>17</td>\n",
              "      <td>7</td>\n",
              "      <td>0.7</td>\n",
              "      <td>0.15</td>\n",
              "      <td>400</td>\n",
              "      <td>1.750821</td>\n",
              "      <td>1.011719</td>\n",
              "      <td>37</td>\n",
              "    </tr>\n",
              "    <tr>\n",
              "      <th>6</th>\n",
              "      <td>0.01</td>\n",
              "      <td>12</td>\n",
              "      <td>7</td>\n",
              "      <td>0.3</td>\n",
              "      <td>0.12</td>\n",
              "      <td>520</td>\n",
              "      <td>1.786989</td>\n",
              "      <td>1.089492</td>\n",
              "      <td>33</td>\n",
              "    </tr>\n",
              "    <tr>\n",
              "      <th>16</th>\n",
              "      <td>0.15</td>\n",
              "      <td>15</td>\n",
              "      <td>5</td>\n",
              "      <td>0.5</td>\n",
              "      <td>0.12</td>\n",
              "      <td>600</td>\n",
              "      <td>1.811641</td>\n",
              "      <td>1.021612</td>\n",
              "      <td>56</td>\n",
              "    </tr>\n",
              "    <tr>\n",
              "      <th>0</th>\n",
              "      <td>0.01</td>\n",
              "      <td>5</td>\n",
              "      <td>10</td>\n",
              "      <td>0.7</td>\n",
              "      <td>0.10</td>\n",
              "      <td>440</td>\n",
              "      <td>1.852570</td>\n",
              "      <td>1.135428</td>\n",
              "      <td>19</td>\n",
              "    </tr>\n",
              "    <tr>\n",
              "      <th>2</th>\n",
              "      <td>0.10</td>\n",
              "      <td>25</td>\n",
              "      <td>15</td>\n",
              "      <td>0.7</td>\n",
              "      <td>0.30</td>\n",
              "      <td>400</td>\n",
              "      <td>1.869485</td>\n",
              "      <td>1.028502</td>\n",
              "      <td>133</td>\n",
              "    </tr>\n",
              "    <tr>\n",
              "      <th>10</th>\n",
              "      <td>0.01</td>\n",
              "      <td>1</td>\n",
              "      <td>15</td>\n",
              "      <td>0.7</td>\n",
              "      <td>0.12</td>\n",
              "      <td>400</td>\n",
              "      <td>1.888931</td>\n",
              "      <td>1.156785</td>\n",
              "      <td>12</td>\n",
              "    </tr>\n",
              "    <tr>\n",
              "      <th>24</th>\n",
              "      <td>0.12</td>\n",
              "      <td>10</td>\n",
              "      <td>15</td>\n",
              "      <td>0.5</td>\n",
              "      <td>0.90</td>\n",
              "      <td>560</td>\n",
              "      <td>1.890198</td>\n",
              "      <td>1.031356</td>\n",
              "      <td>191</td>\n",
              "    </tr>\n",
              "    <tr>\n",
              "      <th>28</th>\n",
              "      <td>0.07</td>\n",
              "      <td>12</td>\n",
              "      <td>7</td>\n",
              "      <td>0.3</td>\n",
              "      <td>0.70</td>\n",
              "      <td>640</td>\n",
              "      <td>1.890669</td>\n",
              "      <td>1.032682</td>\n",
              "      <td>202</td>\n",
              "    </tr>\n",
              "    <tr>\n",
              "      <th>3</th>\n",
              "      <td>0.12</td>\n",
              "      <td>23</td>\n",
              "      <td>3</td>\n",
              "      <td>0.7</td>\n",
              "      <td>0.90</td>\n",
              "      <td>560</td>\n",
              "      <td>1.995004</td>\n",
              "      <td>1.053209</td>\n",
              "      <td>617</td>\n",
              "    </tr>\n",
              "    <tr>\n",
              "      <th>7</th>\n",
              "      <td>0.15</td>\n",
              "      <td>12</td>\n",
              "      <td>12</td>\n",
              "      <td>0.3</td>\n",
              "      <td>0.50</td>\n",
              "      <td>640</td>\n",
              "      <td>2.099750</td>\n",
              "      <td>1.083273</td>\n",
              "      <td>165</td>\n",
              "    </tr>\n",
              "    <tr>\n",
              "      <th>5</th>\n",
              "      <td>0.15</td>\n",
              "      <td>17</td>\n",
              "      <td>3</td>\n",
              "      <td>0.3</td>\n",
              "      <td>0.90</td>\n",
              "      <td>680</td>\n",
              "      <td>2.365466</td>\n",
              "      <td>1.147459</td>\n",
              "      <td>454</td>\n",
              "    </tr>\n",
              "  </tbody>\n",
              "</table>\n",
              "</div>"
            ],
            "text/plain": [
              "    learning_rate  max_depth  ...  mean_absolute_error  time_to_fit\n",
              "11           0.05          5  ...             1.002898           51\n",
              "26           0.03          7  ...             1.003229           99\n",
              "12           0.05          5  ...             1.002939           90\n",
              "13           0.15          3  ...             1.002912           46\n",
              "8            0.07          3  ...             1.004274           43\n",
              "21           0.07          3  ...             1.004839           36\n",
              "20           0.03          3  ...             1.006859           34\n",
              "15           0.07          5  ...             1.006972           18\n",
              "23           0.07          5  ...             1.004827           30\n",
              "29           0.15          5  ...             1.004034           29\n",
              "14           0.01          3  ...             1.023702           45\n",
              "4            0.15          7  ...             1.006134           23\n",
              "1            0.07         10  ...             1.006742           53\n",
              "17           0.01         20  ...             1.034854          122\n",
              "9            0.10          1  ...             1.006548           23\n",
              "22           0.03         17  ...             1.006151          150\n",
              "19           0.03         20  ...             1.020196           39\n",
              "27           0.10          7  ...             1.010000           69\n",
              "25           0.12         17  ...             1.009840           37\n",
              "18           0.10         17  ...             1.011719           37\n",
              "6            0.01         12  ...             1.089492           33\n",
              "16           0.15         15  ...             1.021612           56\n",
              "0            0.01          5  ...             1.135428           19\n",
              "2            0.10         25  ...             1.028502          133\n",
              "10           0.01          1  ...             1.156785           12\n",
              "24           0.12         10  ...             1.031356          191\n",
              "28           0.07         12  ...             1.032682          202\n",
              "3            0.12         23  ...             1.053209          617\n",
              "7            0.15         12  ...             1.083273          165\n",
              "5            0.15         17  ...             1.147459          454\n",
              "\n",
              "[30 rows x 9 columns]"
            ]
          },
          "metadata": {
            "tags": []
          },
          "execution_count": 64
        }
      ]
    },
    {
      "cell_type": "markdown",
      "metadata": {
        "id": "6WcY4OoeAULu"
      },
      "source": [
        "***Em 30 tentativas de otimização, é possível treinar uma versão mais adequada do modelo escolhido, e precisa colocar os valores que aparecem na primeira linha da célula de cima como os valores finais e retreiná-lo. Mas a melhora como esperada.***"
      ]
    },
    {
      "cell_type": "markdown",
      "metadata": {
        "id": "GsYktlbFAuSL"
      },
      "source": [
        "### VI - Conclusões"
      ]
    },
    {
      "cell_type": "markdown",
      "metadata": {
        "id": "de3nvBZWAvO5"
      },
      "source": [
        "### Identificação dapossível solução\n",
        "\n",
        "*A solução ajudou a entender o problema trazendo aprendizados, mas não foi das melhores escolhidas, pois a implementação trouxe um baixo desempenho.*\n"
      ]
    },
    {
      "cell_type": "markdown",
      "metadata": {
        "id": "n-0kE7AWAUx2"
      },
      "source": [
        "### Apresentando os aprendizados diante deste projeto\n",
        "\n",
        "*Houve 3 grandes aprendizados:*\n",
        "\n",
        "*1. Níveis de insatisfação razoavelmente baixos, porém não serão de grande impacto se eles não gerarem altos custos para a loja.* \n",
        "\n",
        "*2. Na extração de importância dos features, resultou em tais fatores relevantes a satisfação em função do ajuste médio/baixo do modelo aos dados:*\n",
        "    - *O cabimento da peça, mostrando a utilidade da variedade e o auxílio dos usuários na escolha do tamanho da peça.*\n",
        "    - *O produto especificamente diz a necessidade da análise aprofundada dos feedbacks negativos obtidos dos clientes que adquiriram os produtos, e a evolução do processo de curadoria, a preservação e o descarte das peças.*\n",
        "    - *Na questão do aluguel, pode haver ocasiões do sortimento de peças estar falhando.*\n",
        "\n",
        "*3. Em todas as fases adotadas, demonstram como o modelo e a análise poderiam ser ajustados para dar um resultado melhor, permitindo assim adquirir um aprendizado à todos leitores.*"
      ]
    },
    {
      "cell_type": "markdown",
      "metadata": {
        "id": "dfSqxSoNEjtc"
      },
      "source": [
        "### Possíveis melhoras a serem adotadas para o futuro:\n",
        "\n",
        "- *Possíveis problemas levantados, poderiam ser repriorizados e ter soluções próprias.*\n",
        "- *Uma estimativa de preço do aluguel, colaboraria com a estimativa do prejuízo em questão da má experiência.*\n",
        "- *Há a possibilidade de repensar sobre adicionar colunas excluídas neste processo de análise.*\n",
        "- *Colocar técnicas de análise de textos nas variáveis de 'review'.*\n",
        "- *Implementar esta base com mais dados com intuito de complementar a análise.*\n",
        "- *Esperimentar outras estratégias para soluçionar o missing values.*\n",
        "- *Experimentar outras estratégias para solucionar os dados categóricos.*\n",
        "- *Refazer a estratégia de modelagem.*\n",
        "- *Utilizar outros algoritmos/modelos para modelar.*\n",
        "- *Substituir por outra estratégia de tratamento para numérico e escalabilização dos dados.*\n",
        "- *Trocar as métricas de performance para otmizar o modelo.*\n",
        "- *Experimentar outros métodos de otimização do modelo.*\n",
        "- * Adotar técnicas para lidar com o desbalanceamento dos dados.*"
      ]
    },
    {
      "cell_type": "markdown",
      "metadata": {
        "id": "0TnKhqkpIjsw"
      },
      "source": [
        "### Identificação de outros problemas a serem resolvidos:\n",
        "\n",
        "*1. Precisa colaborar com os clientes em suas escolhas de roupas e seus devidos tamanhos.*\n",
        "*2. Examinar os feedbacks dos clientes para trabalhar a melhora no processo de compra.* \n",
        "*3. Analisar os dados dos clientes compradores para fazerem parte de uma rede de clientes parecidos (clusters) e oferecer promoções e oportunidades exclusivas para estes.*\n",
        "*4. dar a tenção aos produtos de baixa enfase para remoção ou adapta-los de acordo com a necessidade do cliente, gerando a sua satisfação.*\n"
      ]
    }
  ]
}